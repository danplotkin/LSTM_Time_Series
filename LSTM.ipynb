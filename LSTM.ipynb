{
  "nbformat": 4,
  "nbformat_minor": 0,
  "metadata": {
    "colab": {
      "provenance": [],
      "gpuType": "T4",
      "include_colab_link": true
    },
    "kernelspec": {
      "name": "python3",
      "display_name": "Python 3"
    },
    "language_info": {
      "name": "python"
    },
    "accelerator": "GPU"
  },
  "cells": [
    {
      "cell_type": "markdown",
      "metadata": {
        "id": "view-in-github",
        "colab_type": "text"
      },
      "source": [
        "<a href=\"https://colab.research.google.com/github/danplotkin/LSTM_Time_Series/blob/main/LSTM.ipynb\" target=\"_parent\"><img src=\"https://colab.research.google.com/assets/colab-badge.svg\" alt=\"Open In Colab\"/></a>"
      ]
    },
    {
      "cell_type": "markdown",
      "source": [
        "# Import Libraries"
      ],
      "metadata": {
        "id": "Dq170vW5qaLt"
      }
    },
    {
      "cell_type": "code",
      "source": [
        "import os\n",
        "import pandas as pd\n",
        "import numpy as np\n",
        "import yfinance as yf\n",
        "from sklearn.preprocessing import MinMaxScaler\n",
        "from sklearn.model_selection import train_test_split\n",
        "from sklearn.metrics import (\n",
        "    mean_squared_error,\n",
        "    mean_absolute_error,\n",
        "    r2_score\n",
        ")\n",
        "import matplotlib.pyplot as plt\n",
        "import copy\n",
        "\n",
        "import torch\n",
        "import torch.nn as nn\n",
        "import torch.optim as optim\n",
        "from torch.utils.data import DataLoader, Dataset\n",
        "\n",
        "plt.style.use('seaborn-v0_8-darkgrid')\n",
        "plt.rcParams['figure.figsize'] = (10, 6)"
      ],
      "metadata": {
        "id": "-AEb8la2qrkm"
      },
      "execution_count": 1,
      "outputs": []
    },
    {
      "cell_type": "code",
      "source": [
        "torch.manual_seed(42)"
      ],
      "metadata": {
        "id": "oeoLbbkBTb49",
        "outputId": "b7f34933-73f4-4763-b17f-64940734a078",
        "colab": {
          "base_uri": "https://localhost:8080/"
        }
      },
      "execution_count": 2,
      "outputs": [
        {
          "output_type": "execute_result",
          "data": {
            "text/plain": [
              "<torch._C.Generator at 0x7fdc574ea450>"
            ]
          },
          "metadata": {},
          "execution_count": 2
        }
      ]
    },
    {
      "cell_type": "markdown",
      "source": [
        "# Load Data"
      ],
      "metadata": {
        "id": "HOhVc0tzozDk"
      }
    },
    {
      "cell_type": "code",
      "source": [
        "# Define the ticker symbol\n",
        "ticker = \"MSFT\"\n",
        "\n",
        "# Set the start and end dates for the data\n",
        "start_date = \"2000-01-01\"\n",
        "end_date = \"2023-04-30\"\n",
        "\n",
        "# Download the data from Yahoo Finance\n",
        "data = yf.download(ticker, start=start_date, end=end_date)"
      ],
      "metadata": {
        "colab": {
          "base_uri": "https://localhost:8080/"
        },
        "id": "R4N_JQSjrFYH",
        "outputId": "443532be-cd86-4901-8c0b-e361b9a7d8d3"
      },
      "execution_count": 3,
      "outputs": [
        {
          "output_type": "stream",
          "name": "stdout",
          "text": [
            "\r[*********************100%%**********************]  1 of 1 completed\n"
          ]
        }
      ]
    },
    {
      "cell_type": "code",
      "source": [
        "data.head()"
      ],
      "metadata": {
        "colab": {
          "base_uri": "https://localhost:8080/",
          "height": 238
        },
        "id": "ZdZp4lvXr0Fd",
        "outputId": "7cd6af62-fbaf-403a-99dc-6e87f945f7a7"
      },
      "execution_count": 4,
      "outputs": [
        {
          "output_type": "execute_result",
          "data": {
            "text/plain": [
              "                Open     High       Low     Close  Adj Close    Volume\n",
              "Date                                                                  \n",
              "2000-01-03  58.68750  59.3125  56.00000  58.28125  36.205589  53228400\n",
              "2000-01-04  56.78125  58.5625  56.12500  56.31250  34.982571  54119000\n",
              "2000-01-05  55.56250  58.1875  54.68750  56.90625  35.351425  64059600\n",
              "2000-01-06  56.09375  56.9375  54.18750  55.00000  34.167221  54976600\n",
              "2000-01-07  54.31250  56.1250  53.65625  55.71875  34.613720  62013600"
            ],
            "text/html": [
              "\n",
              "  <div id=\"df-02c4a667-565b-4e2e-9d81-ef743e1fccbb\" class=\"colab-df-container\">\n",
              "    <div>\n",
              "<style scoped>\n",
              "    .dataframe tbody tr th:only-of-type {\n",
              "        vertical-align: middle;\n",
              "    }\n",
              "\n",
              "    .dataframe tbody tr th {\n",
              "        vertical-align: top;\n",
              "    }\n",
              "\n",
              "    .dataframe thead th {\n",
              "        text-align: right;\n",
              "    }\n",
              "</style>\n",
              "<table border=\"1\" class=\"dataframe\">\n",
              "  <thead>\n",
              "    <tr style=\"text-align: right;\">\n",
              "      <th></th>\n",
              "      <th>Open</th>\n",
              "      <th>High</th>\n",
              "      <th>Low</th>\n",
              "      <th>Close</th>\n",
              "      <th>Adj Close</th>\n",
              "      <th>Volume</th>\n",
              "    </tr>\n",
              "    <tr>\n",
              "      <th>Date</th>\n",
              "      <th></th>\n",
              "      <th></th>\n",
              "      <th></th>\n",
              "      <th></th>\n",
              "      <th></th>\n",
              "      <th></th>\n",
              "    </tr>\n",
              "  </thead>\n",
              "  <tbody>\n",
              "    <tr>\n",
              "      <th>2000-01-03</th>\n",
              "      <td>58.68750</td>\n",
              "      <td>59.3125</td>\n",
              "      <td>56.00000</td>\n",
              "      <td>58.28125</td>\n",
              "      <td>36.205589</td>\n",
              "      <td>53228400</td>\n",
              "    </tr>\n",
              "    <tr>\n",
              "      <th>2000-01-04</th>\n",
              "      <td>56.78125</td>\n",
              "      <td>58.5625</td>\n",
              "      <td>56.12500</td>\n",
              "      <td>56.31250</td>\n",
              "      <td>34.982571</td>\n",
              "      <td>54119000</td>\n",
              "    </tr>\n",
              "    <tr>\n",
              "      <th>2000-01-05</th>\n",
              "      <td>55.56250</td>\n",
              "      <td>58.1875</td>\n",
              "      <td>54.68750</td>\n",
              "      <td>56.90625</td>\n",
              "      <td>35.351425</td>\n",
              "      <td>64059600</td>\n",
              "    </tr>\n",
              "    <tr>\n",
              "      <th>2000-01-06</th>\n",
              "      <td>56.09375</td>\n",
              "      <td>56.9375</td>\n",
              "      <td>54.18750</td>\n",
              "      <td>55.00000</td>\n",
              "      <td>34.167221</td>\n",
              "      <td>54976600</td>\n",
              "    </tr>\n",
              "    <tr>\n",
              "      <th>2000-01-07</th>\n",
              "      <td>54.31250</td>\n",
              "      <td>56.1250</td>\n",
              "      <td>53.65625</td>\n",
              "      <td>55.71875</td>\n",
              "      <td>34.613720</td>\n",
              "      <td>62013600</td>\n",
              "    </tr>\n",
              "  </tbody>\n",
              "</table>\n",
              "</div>\n",
              "    <div class=\"colab-df-buttons\">\n",
              "\n",
              "  <div class=\"colab-df-container\">\n",
              "    <button class=\"colab-df-convert\" onclick=\"convertToInteractive('df-02c4a667-565b-4e2e-9d81-ef743e1fccbb')\"\n",
              "            title=\"Convert this dataframe to an interactive table.\"\n",
              "            style=\"display:none;\">\n",
              "\n",
              "  <svg xmlns=\"http://www.w3.org/2000/svg\" height=\"24px\" viewBox=\"0 -960 960 960\">\n",
              "    <path d=\"M120-120v-720h720v720H120Zm60-500h600v-160H180v160Zm220 220h160v-160H400v160Zm0 220h160v-160H400v160ZM180-400h160v-160H180v160Zm440 0h160v-160H620v160ZM180-180h160v-160H180v160Zm440 0h160v-160H620v160Z\"/>\n",
              "  </svg>\n",
              "    </button>\n",
              "\n",
              "  <style>\n",
              "    .colab-df-container {\n",
              "      display:flex;\n",
              "      gap: 12px;\n",
              "    }\n",
              "\n",
              "    .colab-df-convert {\n",
              "      background-color: #E8F0FE;\n",
              "      border: none;\n",
              "      border-radius: 50%;\n",
              "      cursor: pointer;\n",
              "      display: none;\n",
              "      fill: #1967D2;\n",
              "      height: 32px;\n",
              "      padding: 0 0 0 0;\n",
              "      width: 32px;\n",
              "    }\n",
              "\n",
              "    .colab-df-convert:hover {\n",
              "      background-color: #E2EBFA;\n",
              "      box-shadow: 0px 1px 2px rgba(60, 64, 67, 0.3), 0px 1px 3px 1px rgba(60, 64, 67, 0.15);\n",
              "      fill: #174EA6;\n",
              "    }\n",
              "\n",
              "    .colab-df-buttons div {\n",
              "      margin-bottom: 4px;\n",
              "    }\n",
              "\n",
              "    [theme=dark] .colab-df-convert {\n",
              "      background-color: #3B4455;\n",
              "      fill: #D2E3FC;\n",
              "    }\n",
              "\n",
              "    [theme=dark] .colab-df-convert:hover {\n",
              "      background-color: #434B5C;\n",
              "      box-shadow: 0px 1px 3px 1px rgba(0, 0, 0, 0.15);\n",
              "      filter: drop-shadow(0px 1px 2px rgba(0, 0, 0, 0.3));\n",
              "      fill: #FFFFFF;\n",
              "    }\n",
              "  </style>\n",
              "\n",
              "    <script>\n",
              "      const buttonEl =\n",
              "        document.querySelector('#df-02c4a667-565b-4e2e-9d81-ef743e1fccbb button.colab-df-convert');\n",
              "      buttonEl.style.display =\n",
              "        google.colab.kernel.accessAllowed ? 'block' : 'none';\n",
              "\n",
              "      async function convertToInteractive(key) {\n",
              "        const element = document.querySelector('#df-02c4a667-565b-4e2e-9d81-ef743e1fccbb');\n",
              "        const dataTable =\n",
              "          await google.colab.kernel.invokeFunction('convertToInteractive',\n",
              "                                                    [key], {});\n",
              "        if (!dataTable) return;\n",
              "\n",
              "        const docLinkHtml = 'Like what you see? Visit the ' +\n",
              "          '<a target=\"_blank\" href=https://colab.research.google.com/notebooks/data_table.ipynb>data table notebook</a>'\n",
              "          + ' to learn more about interactive tables.';\n",
              "        element.innerHTML = '';\n",
              "        dataTable['output_type'] = 'display_data';\n",
              "        await google.colab.output.renderOutput(dataTable, element);\n",
              "        const docLink = document.createElement('div');\n",
              "        docLink.innerHTML = docLinkHtml;\n",
              "        element.appendChild(docLink);\n",
              "      }\n",
              "    </script>\n",
              "  </div>\n",
              "\n",
              "\n",
              "<div id=\"df-86efe49a-b8df-4072-80bf-8f5ed8ca2a70\">\n",
              "  <button class=\"colab-df-quickchart\" onclick=\"quickchart('df-86efe49a-b8df-4072-80bf-8f5ed8ca2a70')\"\n",
              "            title=\"Suggest charts.\"\n",
              "            style=\"display:none;\">\n",
              "\n",
              "<svg xmlns=\"http://www.w3.org/2000/svg\" height=\"24px\"viewBox=\"0 0 24 24\"\n",
              "     width=\"24px\">\n",
              "    <g>\n",
              "        <path d=\"M19 3H5c-1.1 0-2 .9-2 2v14c0 1.1.9 2 2 2h14c1.1 0 2-.9 2-2V5c0-1.1-.9-2-2-2zM9 17H7v-7h2v7zm4 0h-2V7h2v10zm4 0h-2v-4h2v4z\"/>\n",
              "    </g>\n",
              "</svg>\n",
              "  </button>\n",
              "\n",
              "<style>\n",
              "  .colab-df-quickchart {\n",
              "      --bg-color: #E8F0FE;\n",
              "      --fill-color: #1967D2;\n",
              "      --hover-bg-color: #E2EBFA;\n",
              "      --hover-fill-color: #174EA6;\n",
              "      --disabled-fill-color: #AAA;\n",
              "      --disabled-bg-color: #DDD;\n",
              "  }\n",
              "\n",
              "  [theme=dark] .colab-df-quickchart {\n",
              "      --bg-color: #3B4455;\n",
              "      --fill-color: #D2E3FC;\n",
              "      --hover-bg-color: #434B5C;\n",
              "      --hover-fill-color: #FFFFFF;\n",
              "      --disabled-bg-color: #3B4455;\n",
              "      --disabled-fill-color: #666;\n",
              "  }\n",
              "\n",
              "  .colab-df-quickchart {\n",
              "    background-color: var(--bg-color);\n",
              "    border: none;\n",
              "    border-radius: 50%;\n",
              "    cursor: pointer;\n",
              "    display: none;\n",
              "    fill: var(--fill-color);\n",
              "    height: 32px;\n",
              "    padding: 0;\n",
              "    width: 32px;\n",
              "  }\n",
              "\n",
              "  .colab-df-quickchart:hover {\n",
              "    background-color: var(--hover-bg-color);\n",
              "    box-shadow: 0 1px 2px rgba(60, 64, 67, 0.3), 0 1px 3px 1px rgba(60, 64, 67, 0.15);\n",
              "    fill: var(--button-hover-fill-color);\n",
              "  }\n",
              "\n",
              "  .colab-df-quickchart-complete:disabled,\n",
              "  .colab-df-quickchart-complete:disabled:hover {\n",
              "    background-color: var(--disabled-bg-color);\n",
              "    fill: var(--disabled-fill-color);\n",
              "    box-shadow: none;\n",
              "  }\n",
              "\n",
              "  .colab-df-spinner {\n",
              "    border: 2px solid var(--fill-color);\n",
              "    border-color: transparent;\n",
              "    border-bottom-color: var(--fill-color);\n",
              "    animation:\n",
              "      spin 1s steps(1) infinite;\n",
              "  }\n",
              "\n",
              "  @keyframes spin {\n",
              "    0% {\n",
              "      border-color: transparent;\n",
              "      border-bottom-color: var(--fill-color);\n",
              "      border-left-color: var(--fill-color);\n",
              "    }\n",
              "    20% {\n",
              "      border-color: transparent;\n",
              "      border-left-color: var(--fill-color);\n",
              "      border-top-color: var(--fill-color);\n",
              "    }\n",
              "    30% {\n",
              "      border-color: transparent;\n",
              "      border-left-color: var(--fill-color);\n",
              "      border-top-color: var(--fill-color);\n",
              "      border-right-color: var(--fill-color);\n",
              "    }\n",
              "    40% {\n",
              "      border-color: transparent;\n",
              "      border-right-color: var(--fill-color);\n",
              "      border-top-color: var(--fill-color);\n",
              "    }\n",
              "    60% {\n",
              "      border-color: transparent;\n",
              "      border-right-color: var(--fill-color);\n",
              "    }\n",
              "    80% {\n",
              "      border-color: transparent;\n",
              "      border-right-color: var(--fill-color);\n",
              "      border-bottom-color: var(--fill-color);\n",
              "    }\n",
              "    90% {\n",
              "      border-color: transparent;\n",
              "      border-bottom-color: var(--fill-color);\n",
              "    }\n",
              "  }\n",
              "</style>\n",
              "\n",
              "  <script>\n",
              "    async function quickchart(key) {\n",
              "      const quickchartButtonEl =\n",
              "        document.querySelector('#' + key + ' button');\n",
              "      quickchartButtonEl.disabled = true;  // To prevent multiple clicks.\n",
              "      quickchartButtonEl.classList.add('colab-df-spinner');\n",
              "      try {\n",
              "        const charts = await google.colab.kernel.invokeFunction(\n",
              "            'suggestCharts', [key], {});\n",
              "      } catch (error) {\n",
              "        console.error('Error during call to suggestCharts:', error);\n",
              "      }\n",
              "      quickchartButtonEl.classList.remove('colab-df-spinner');\n",
              "      quickchartButtonEl.classList.add('colab-df-quickchart-complete');\n",
              "    }\n",
              "    (() => {\n",
              "      let quickchartButtonEl =\n",
              "        document.querySelector('#df-86efe49a-b8df-4072-80bf-8f5ed8ca2a70 button');\n",
              "      quickchartButtonEl.style.display =\n",
              "        google.colab.kernel.accessAllowed ? 'block' : 'none';\n",
              "    })();\n",
              "  </script>\n",
              "</div>\n",
              "    </div>\n",
              "  </div>\n"
            ]
          },
          "metadata": {},
          "execution_count": 4
        }
      ]
    },
    {
      "cell_type": "code",
      "source": [
        "df = data.drop(labels=['Open', 'High', 'Low', 'Close', 'Volume'], axis=1)\n",
        "df.head(20)"
      ],
      "metadata": {
        "colab": {
          "base_uri": "https://localhost:8080/",
          "height": 708
        },
        "id": "jmMJZXfWsJYl",
        "outputId": "a924c190-c5a0-4a72-80f2-13832672235f"
      },
      "execution_count": 5,
      "outputs": [
        {
          "output_type": "execute_result",
          "data": {
            "text/plain": [
              "            Adj Close\n",
              "Date                 \n",
              "2000-01-03  36.205589\n",
              "2000-01-04  34.982571\n",
              "2000-01-05  35.351425\n",
              "2000-01-06  34.167221\n",
              "2000-01-07  34.613720\n",
              "2000-01-10  34.866104\n",
              "2000-01-11  33.973087\n",
              "2000-01-12  32.866543\n",
              "2000-01-13  33.487743\n",
              "2000-01-14  34.866104\n",
              "2000-01-18  35.817341\n",
              "2000-01-19  33.235394\n",
              "2000-01-20  32.924755\n",
              "2000-01-21  32.225899\n",
              "2000-01-24  31.449373\n",
              "2000-01-25  31.934694\n",
              "2000-01-26  30.866974\n",
              "2000-01-27  30.672844\n",
              "2000-01-28  30.517538\n",
              "2000-01-31  30.401066"
            ],
            "text/html": [
              "\n",
              "  <div id=\"df-93ea0de6-b6f5-41be-a84d-35149730b113\" class=\"colab-df-container\">\n",
              "    <div>\n",
              "<style scoped>\n",
              "    .dataframe tbody tr th:only-of-type {\n",
              "        vertical-align: middle;\n",
              "    }\n",
              "\n",
              "    .dataframe tbody tr th {\n",
              "        vertical-align: top;\n",
              "    }\n",
              "\n",
              "    .dataframe thead th {\n",
              "        text-align: right;\n",
              "    }\n",
              "</style>\n",
              "<table border=\"1\" class=\"dataframe\">\n",
              "  <thead>\n",
              "    <tr style=\"text-align: right;\">\n",
              "      <th></th>\n",
              "      <th>Adj Close</th>\n",
              "    </tr>\n",
              "    <tr>\n",
              "      <th>Date</th>\n",
              "      <th></th>\n",
              "    </tr>\n",
              "  </thead>\n",
              "  <tbody>\n",
              "    <tr>\n",
              "      <th>2000-01-03</th>\n",
              "      <td>36.205589</td>\n",
              "    </tr>\n",
              "    <tr>\n",
              "      <th>2000-01-04</th>\n",
              "      <td>34.982571</td>\n",
              "    </tr>\n",
              "    <tr>\n",
              "      <th>2000-01-05</th>\n",
              "      <td>35.351425</td>\n",
              "    </tr>\n",
              "    <tr>\n",
              "      <th>2000-01-06</th>\n",
              "      <td>34.167221</td>\n",
              "    </tr>\n",
              "    <tr>\n",
              "      <th>2000-01-07</th>\n",
              "      <td>34.613720</td>\n",
              "    </tr>\n",
              "    <tr>\n",
              "      <th>2000-01-10</th>\n",
              "      <td>34.866104</td>\n",
              "    </tr>\n",
              "    <tr>\n",
              "      <th>2000-01-11</th>\n",
              "      <td>33.973087</td>\n",
              "    </tr>\n",
              "    <tr>\n",
              "      <th>2000-01-12</th>\n",
              "      <td>32.866543</td>\n",
              "    </tr>\n",
              "    <tr>\n",
              "      <th>2000-01-13</th>\n",
              "      <td>33.487743</td>\n",
              "    </tr>\n",
              "    <tr>\n",
              "      <th>2000-01-14</th>\n",
              "      <td>34.866104</td>\n",
              "    </tr>\n",
              "    <tr>\n",
              "      <th>2000-01-18</th>\n",
              "      <td>35.817341</td>\n",
              "    </tr>\n",
              "    <tr>\n",
              "      <th>2000-01-19</th>\n",
              "      <td>33.235394</td>\n",
              "    </tr>\n",
              "    <tr>\n",
              "      <th>2000-01-20</th>\n",
              "      <td>32.924755</td>\n",
              "    </tr>\n",
              "    <tr>\n",
              "      <th>2000-01-21</th>\n",
              "      <td>32.225899</td>\n",
              "    </tr>\n",
              "    <tr>\n",
              "      <th>2000-01-24</th>\n",
              "      <td>31.449373</td>\n",
              "    </tr>\n",
              "    <tr>\n",
              "      <th>2000-01-25</th>\n",
              "      <td>31.934694</td>\n",
              "    </tr>\n",
              "    <tr>\n",
              "      <th>2000-01-26</th>\n",
              "      <td>30.866974</td>\n",
              "    </tr>\n",
              "    <tr>\n",
              "      <th>2000-01-27</th>\n",
              "      <td>30.672844</td>\n",
              "    </tr>\n",
              "    <tr>\n",
              "      <th>2000-01-28</th>\n",
              "      <td>30.517538</td>\n",
              "    </tr>\n",
              "    <tr>\n",
              "      <th>2000-01-31</th>\n",
              "      <td>30.401066</td>\n",
              "    </tr>\n",
              "  </tbody>\n",
              "</table>\n",
              "</div>\n",
              "    <div class=\"colab-df-buttons\">\n",
              "\n",
              "  <div class=\"colab-df-container\">\n",
              "    <button class=\"colab-df-convert\" onclick=\"convertToInteractive('df-93ea0de6-b6f5-41be-a84d-35149730b113')\"\n",
              "            title=\"Convert this dataframe to an interactive table.\"\n",
              "            style=\"display:none;\">\n",
              "\n",
              "  <svg xmlns=\"http://www.w3.org/2000/svg\" height=\"24px\" viewBox=\"0 -960 960 960\">\n",
              "    <path d=\"M120-120v-720h720v720H120Zm60-500h600v-160H180v160Zm220 220h160v-160H400v160Zm0 220h160v-160H400v160ZM180-400h160v-160H180v160Zm440 0h160v-160H620v160ZM180-180h160v-160H180v160Zm440 0h160v-160H620v160Z\"/>\n",
              "  </svg>\n",
              "    </button>\n",
              "\n",
              "  <style>\n",
              "    .colab-df-container {\n",
              "      display:flex;\n",
              "      gap: 12px;\n",
              "    }\n",
              "\n",
              "    .colab-df-convert {\n",
              "      background-color: #E8F0FE;\n",
              "      border: none;\n",
              "      border-radius: 50%;\n",
              "      cursor: pointer;\n",
              "      display: none;\n",
              "      fill: #1967D2;\n",
              "      height: 32px;\n",
              "      padding: 0 0 0 0;\n",
              "      width: 32px;\n",
              "    }\n",
              "\n",
              "    .colab-df-convert:hover {\n",
              "      background-color: #E2EBFA;\n",
              "      box-shadow: 0px 1px 2px rgba(60, 64, 67, 0.3), 0px 1px 3px 1px rgba(60, 64, 67, 0.15);\n",
              "      fill: #174EA6;\n",
              "    }\n",
              "\n",
              "    .colab-df-buttons div {\n",
              "      margin-bottom: 4px;\n",
              "    }\n",
              "\n",
              "    [theme=dark] .colab-df-convert {\n",
              "      background-color: #3B4455;\n",
              "      fill: #D2E3FC;\n",
              "    }\n",
              "\n",
              "    [theme=dark] .colab-df-convert:hover {\n",
              "      background-color: #434B5C;\n",
              "      box-shadow: 0px 1px 3px 1px rgba(0, 0, 0, 0.15);\n",
              "      filter: drop-shadow(0px 1px 2px rgba(0, 0, 0, 0.3));\n",
              "      fill: #FFFFFF;\n",
              "    }\n",
              "  </style>\n",
              "\n",
              "    <script>\n",
              "      const buttonEl =\n",
              "        document.querySelector('#df-93ea0de6-b6f5-41be-a84d-35149730b113 button.colab-df-convert');\n",
              "      buttonEl.style.display =\n",
              "        google.colab.kernel.accessAllowed ? 'block' : 'none';\n",
              "\n",
              "      async function convertToInteractive(key) {\n",
              "        const element = document.querySelector('#df-93ea0de6-b6f5-41be-a84d-35149730b113');\n",
              "        const dataTable =\n",
              "          await google.colab.kernel.invokeFunction('convertToInteractive',\n",
              "                                                    [key], {});\n",
              "        if (!dataTable) return;\n",
              "\n",
              "        const docLinkHtml = 'Like what you see? Visit the ' +\n",
              "          '<a target=\"_blank\" href=https://colab.research.google.com/notebooks/data_table.ipynb>data table notebook</a>'\n",
              "          + ' to learn more about interactive tables.';\n",
              "        element.innerHTML = '';\n",
              "        dataTable['output_type'] = 'display_data';\n",
              "        await google.colab.output.renderOutput(dataTable, element);\n",
              "        const docLink = document.createElement('div');\n",
              "        docLink.innerHTML = docLinkHtml;\n",
              "        element.appendChild(docLink);\n",
              "      }\n",
              "    </script>\n",
              "  </div>\n",
              "\n",
              "\n",
              "<div id=\"df-7d1b3224-6799-42d5-b065-e2001d313512\">\n",
              "  <button class=\"colab-df-quickchart\" onclick=\"quickchart('df-7d1b3224-6799-42d5-b065-e2001d313512')\"\n",
              "            title=\"Suggest charts.\"\n",
              "            style=\"display:none;\">\n",
              "\n",
              "<svg xmlns=\"http://www.w3.org/2000/svg\" height=\"24px\"viewBox=\"0 0 24 24\"\n",
              "     width=\"24px\">\n",
              "    <g>\n",
              "        <path d=\"M19 3H5c-1.1 0-2 .9-2 2v14c0 1.1.9 2 2 2h14c1.1 0 2-.9 2-2V5c0-1.1-.9-2-2-2zM9 17H7v-7h2v7zm4 0h-2V7h2v10zm4 0h-2v-4h2v4z\"/>\n",
              "    </g>\n",
              "</svg>\n",
              "  </button>\n",
              "\n",
              "<style>\n",
              "  .colab-df-quickchart {\n",
              "      --bg-color: #E8F0FE;\n",
              "      --fill-color: #1967D2;\n",
              "      --hover-bg-color: #E2EBFA;\n",
              "      --hover-fill-color: #174EA6;\n",
              "      --disabled-fill-color: #AAA;\n",
              "      --disabled-bg-color: #DDD;\n",
              "  }\n",
              "\n",
              "  [theme=dark] .colab-df-quickchart {\n",
              "      --bg-color: #3B4455;\n",
              "      --fill-color: #D2E3FC;\n",
              "      --hover-bg-color: #434B5C;\n",
              "      --hover-fill-color: #FFFFFF;\n",
              "      --disabled-bg-color: #3B4455;\n",
              "      --disabled-fill-color: #666;\n",
              "  }\n",
              "\n",
              "  .colab-df-quickchart {\n",
              "    background-color: var(--bg-color);\n",
              "    border: none;\n",
              "    border-radius: 50%;\n",
              "    cursor: pointer;\n",
              "    display: none;\n",
              "    fill: var(--fill-color);\n",
              "    height: 32px;\n",
              "    padding: 0;\n",
              "    width: 32px;\n",
              "  }\n",
              "\n",
              "  .colab-df-quickchart:hover {\n",
              "    background-color: var(--hover-bg-color);\n",
              "    box-shadow: 0 1px 2px rgba(60, 64, 67, 0.3), 0 1px 3px 1px rgba(60, 64, 67, 0.15);\n",
              "    fill: var(--button-hover-fill-color);\n",
              "  }\n",
              "\n",
              "  .colab-df-quickchart-complete:disabled,\n",
              "  .colab-df-quickchart-complete:disabled:hover {\n",
              "    background-color: var(--disabled-bg-color);\n",
              "    fill: var(--disabled-fill-color);\n",
              "    box-shadow: none;\n",
              "  }\n",
              "\n",
              "  .colab-df-spinner {\n",
              "    border: 2px solid var(--fill-color);\n",
              "    border-color: transparent;\n",
              "    border-bottom-color: var(--fill-color);\n",
              "    animation:\n",
              "      spin 1s steps(1) infinite;\n",
              "  }\n",
              "\n",
              "  @keyframes spin {\n",
              "    0% {\n",
              "      border-color: transparent;\n",
              "      border-bottom-color: var(--fill-color);\n",
              "      border-left-color: var(--fill-color);\n",
              "    }\n",
              "    20% {\n",
              "      border-color: transparent;\n",
              "      border-left-color: var(--fill-color);\n",
              "      border-top-color: var(--fill-color);\n",
              "    }\n",
              "    30% {\n",
              "      border-color: transparent;\n",
              "      border-left-color: var(--fill-color);\n",
              "      border-top-color: var(--fill-color);\n",
              "      border-right-color: var(--fill-color);\n",
              "    }\n",
              "    40% {\n",
              "      border-color: transparent;\n",
              "      border-right-color: var(--fill-color);\n",
              "      border-top-color: var(--fill-color);\n",
              "    }\n",
              "    60% {\n",
              "      border-color: transparent;\n",
              "      border-right-color: var(--fill-color);\n",
              "    }\n",
              "    80% {\n",
              "      border-color: transparent;\n",
              "      border-right-color: var(--fill-color);\n",
              "      border-bottom-color: var(--fill-color);\n",
              "    }\n",
              "    90% {\n",
              "      border-color: transparent;\n",
              "      border-bottom-color: var(--fill-color);\n",
              "    }\n",
              "  }\n",
              "</style>\n",
              "\n",
              "  <script>\n",
              "    async function quickchart(key) {\n",
              "      const quickchartButtonEl =\n",
              "        document.querySelector('#' + key + ' button');\n",
              "      quickchartButtonEl.disabled = true;  // To prevent multiple clicks.\n",
              "      quickchartButtonEl.classList.add('colab-df-spinner');\n",
              "      try {\n",
              "        const charts = await google.colab.kernel.invokeFunction(\n",
              "            'suggestCharts', [key], {});\n",
              "      } catch (error) {\n",
              "        console.error('Error during call to suggestCharts:', error);\n",
              "      }\n",
              "      quickchartButtonEl.classList.remove('colab-df-spinner');\n",
              "      quickchartButtonEl.classList.add('colab-df-quickchart-complete');\n",
              "    }\n",
              "    (() => {\n",
              "      let quickchartButtonEl =\n",
              "        document.querySelector('#df-7d1b3224-6799-42d5-b065-e2001d313512 button');\n",
              "      quickchartButtonEl.style.display =\n",
              "        google.colab.kernel.accessAllowed ? 'block' : 'none';\n",
              "    })();\n",
              "  </script>\n",
              "</div>\n",
              "    </div>\n",
              "  </div>\n"
            ]
          },
          "metadata": {},
          "execution_count": 5
        }
      ]
    },
    {
      "cell_type": "markdown",
      "source": [
        "# Plot Adj Closing Price Over Time"
      ],
      "metadata": {
        "id": "jSYADxXUxwXZ"
      }
    },
    {
      "cell_type": "code",
      "source": [
        "plt.plot(df.index, df['Adj Close'])\n",
        "plt.title('Adjusted Closing Price Over Time')\n",
        "plt.xlabel('Date')\n",
        "plt.ylabel('Adj Close')\n",
        "plt.show()"
      ],
      "metadata": {
        "colab": {
          "base_uri": "https://localhost:8080/",
          "height": 557
        },
        "id": "iB_wUpaTGv1C",
        "outputId": "15d3b36d-a813-47e5-9c85-bd3d437f6112"
      },
      "execution_count": 6,
      "outputs": [
        {
          "output_type": "display_data",
          "data": {
            "text/plain": [
              "<Figure size 1000x600 with 1 Axes>"
            ],
            "image/png": "[encoded data removed]"
          },
          "metadata": {}
        }
      ]
    },
    {
      "cell_type": "markdown",
      "source": [
        "# Prepare Data"
      ],
      "metadata": {
        "id": "xnh6YLaBCyNS"
      }
    },
    {
      "cell_type": "code",
      "source": [
        "def prepare_timeseries(df, window_size):\n",
        "    df = df.copy()\n",
        "\n",
        "    for i in reversed(range(1, window_size + 1)):\n",
        "        df[f'Adj Close(t-{i})'] = df['Adj Close'].shift(i)\n",
        "\n",
        "    df['Target'] = df['Adj Close']\n",
        "\n",
        "    return df.dropna().drop(\"Adj Close\", axis=1)"
      ],
      "metadata": {
        "id": "yynDLt5e3QtG"
      },
      "execution_count": 7,
      "outputs": []
    },
    {
      "cell_type": "code",
      "source": [
        "window_size = 5\n",
        "dataset = prepare_timeseries(df, window_size)\n",
        "dataset.head()"
      ],
      "metadata": {
        "id": "PoeLiWON1v8t",
        "outputId": "adc62cfb-ac79-47ab-d5ed-51e655125993",
        "colab": {
          "base_uri": "https://localhost:8080/",
          "height": 238
        }
      },
      "execution_count": 8,
      "outputs": [
        {
          "output_type": "execute_result",
          "data": {
            "text/plain": [
              "            Adj Close(t-5)  Adj Close(t-4)  Adj Close(t-3)  Adj Close(t-2)  \\\n",
              "Date                                                                         \n",
              "2000-01-10       36.205589       34.982571       35.351425       34.167221   \n",
              "2000-01-11       34.982571       35.351425       34.167221       34.613720   \n",
              "2000-01-12       35.351425       34.167221       34.613720       34.866104   \n",
              "2000-01-13       34.167221       34.613720       34.866104       33.973087   \n",
              "2000-01-14       34.613720       34.866104       33.973087       32.866543   \n",
              "\n",
              "            Adj Close(t-1)     Target  \n",
              "Date                                   \n",
              "2000-01-10       34.613720  34.866104  \n",
              "2000-01-11       34.866104  33.973087  \n",
              "2000-01-12       33.973087  32.866543  \n",
              "2000-01-13       32.866543  33.487743  \n",
              "2000-01-14       33.487743  34.866104  "
            ],
            "text/html": [
              "\n",
              "  <div id=\"df-34b2d34c-2435-4fdb-9867-ad0c8104befe\" class=\"colab-df-container\">\n",
              "    <div>\n",
              "<style scoped>\n",
              "    .dataframe tbody tr th:only-of-type {\n",
              "        vertical-align: middle;\n",
              "    }\n",
              "\n",
              "    .dataframe tbody tr th {\n",
              "        vertical-align: top;\n",
              "    }\n",
              "\n",
              "    .dataframe thead th {\n",
              "        text-align: right;\n",
              "    }\n",
              "</style>\n",
              "<table border=\"1\" class=\"dataframe\">\n",
              "  <thead>\n",
              "    <tr style=\"text-align: right;\">\n",
              "      <th></th>\n",
              "      <th>Adj Close(t-5)</th>\n",
              "      <th>Adj Close(t-4)</th>\n",
              "      <th>Adj Close(t-3)</th>\n",
              "      <th>Adj Close(t-2)</th>\n",
              "      <th>Adj Close(t-1)</th>\n",
              "      <th>Target</th>\n",
              "    </tr>\n",
              "    <tr>\n",
              "      <th>Date</th>\n",
              "      <th></th>\n",
              "      <th></th>\n",
              "      <th></th>\n",
              "      <th></th>\n",
              "      <th></th>\n",
              "      <th></th>\n",
              "    </tr>\n",
              "  </thead>\n",
              "  <tbody>\n",
              "    <tr>\n",
              "      <th>2000-01-10</th>\n",
              "      <td>36.205589</td>\n",
              "      <td>34.982571</td>\n",
              "      <td>35.351425</td>\n",
              "      <td>34.167221</td>\n",
              "      <td>34.613720</td>\n",
              "      <td>34.866104</td>\n",
              "    </tr>\n",
              "    <tr>\n",
              "      <th>2000-01-11</th>\n",
              "      <td>34.982571</td>\n",
              "      <td>35.351425</td>\n",
              "      <td>34.167221</td>\n",
              "      <td>34.613720</td>\n",
              "      <td>34.866104</td>\n",
              "      <td>33.973087</td>\n",
              "    </tr>\n",
              "    <tr>\n",
              "      <th>2000-01-12</th>\n",
              "      <td>35.351425</td>\n",
              "      <td>34.167221</td>\n",
              "      <td>34.613720</td>\n",
              "      <td>34.866104</td>\n",
              "      <td>33.973087</td>\n",
              "      <td>32.866543</td>\n",
              "    </tr>\n",
              "    <tr>\n",
              "      <th>2000-01-13</th>\n",
              "      <td>34.167221</td>\n",
              "      <td>34.613720</td>\n",
              "      <td>34.866104</td>\n",
              "      <td>33.973087</td>\n",
              "      <td>32.866543</td>\n",
              "      <td>33.487743</td>\n",
              "    </tr>\n",
              "    <tr>\n",
              "      <th>2000-01-14</th>\n",
              "      <td>34.613720</td>\n",
              "      <td>34.866104</td>\n",
              "      <td>33.973087</td>\n",
              "      <td>32.866543</td>\n",
              "      <td>33.487743</td>\n",
              "      <td>34.866104</td>\n",
              "    </tr>\n",
              "  </tbody>\n",
              "</table>\n",
              "</div>\n",
              "    <div class=\"colab-df-buttons\">\n",
              "\n",
              "  <div class=\"colab-df-container\">\n",
              "    <button class=\"colab-df-convert\" onclick=\"convertToInteractive('df-34b2d34c-2435-4fdb-9867-ad0c8104befe')\"\n",
              "            title=\"Convert this dataframe to an interactive table.\"\n",
              "            style=\"display:none;\">\n",
              "\n",
              "  <svg xmlns=\"http://www.w3.org/2000/svg\" height=\"24px\" viewBox=\"0 -960 960 960\">\n",
              "    <path d=\"M120-120v-720h720v720H120Zm60-500h600v-160H180v160Zm220 220h160v-160H400v160Zm0 220h160v-160H400v160ZM180-400h160v-160H180v160Zm440 0h160v-160H620v160ZM180-180h160v-160H180v160Zm440 0h160v-160H620v160Z\"/>\n",
              "  </svg>\n",
              "    </button>\n",
              "\n",
              "  <style>\n",
              "    .colab-df-container {\n",
              "      display:flex;\n",
              "      gap: 12px;\n",
              "    }\n",
              "\n",
              "    .colab-df-convert {\n",
              "      background-color: #E8F0FE;\n",
              "      border: none;\n",
              "      border-radius: 50%;\n",
              "      cursor: pointer;\n",
              "      display: none;\n",
              "      fill: #1967D2;\n",
              "      height: 32px;\n",
              "      padding: 0 0 0 0;\n",
              "      width: 32px;\n",
              "    }\n",
              "\n",
              "    .colab-df-convert:hover {\n",
              "      background-color: #E2EBFA;\n",
              "      box-shadow: 0px 1px 2px rgba(60, 64, 67, 0.3), 0px 1px 3px 1px rgba(60, 64, 67, 0.15);\n",
              "      fill: #174EA6;\n",
              "    }\n",
              "\n",
              "    .colab-df-buttons div {\n",
              "      margin-bottom: 4px;\n",
              "    }\n",
              "\n",
              "    [theme=dark] .colab-df-convert {\n",
              "      background-color: #3B4455;\n",
              "      fill: #D2E3FC;\n",
              "    }\n",
              "\n",
              "    [theme=dark] .colab-df-convert:hover {\n",
              "      background-color: #434B5C;\n",
              "      box-shadow: 0px 1px 3px 1px rgba(0, 0, 0, 0.15);\n",
              "      filter: drop-shadow(0px 1px 2px rgba(0, 0, 0, 0.3));\n",
              "      fill: #FFFFFF;\n",
              "    }\n",
              "  </style>\n",
              "\n",
              "    <script>\n",
              "      const buttonEl =\n",
              "        document.querySelector('#df-34b2d34c-2435-4fdb-9867-ad0c8104befe button.colab-df-convert');\n",
              "      buttonEl.style.display =\n",
              "        google.colab.kernel.accessAllowed ? 'block' : 'none';\n",
              "\n",
              "      async function convertToInteractive(key) {\n",
              "        const element = document.querySelector('#df-34b2d34c-2435-4fdb-9867-ad0c8104befe');\n",
              "        const dataTable =\n",
              "          await google.colab.kernel.invokeFunction('convertToInteractive',\n",
              "                                                    [key], {});\n",
              "        if (!dataTable) return;\n",
              "\n",
              "        const docLinkHtml = 'Like what you see? Visit the ' +\n",
              "          '<a target=\"_blank\" href=https://colab.research.google.com/notebooks/data_table.ipynb>data table notebook</a>'\n",
              "          + ' to learn more about interactive tables.';\n",
              "        element.innerHTML = '';\n",
              "        dataTable['output_type'] = 'display_data';\n",
              "        await google.colab.output.renderOutput(dataTable, element);\n",
              "        const docLink = document.createElement('div');\n",
              "        docLink.innerHTML = docLinkHtml;\n",
              "        element.appendChild(docLink);\n",
              "      }\n",
              "    </script>\n",
              "  </div>\n",
              "\n",
              "\n",
              "<div id=\"df-c8355938-bf94-48e7-b119-f05010544980\">\n",
              "  <button class=\"colab-df-quickchart\" onclick=\"quickchart('df-c8355938-bf94-48e7-b119-f05010544980')\"\n",
              "            title=\"Suggest charts.\"\n",
              "            style=\"display:none;\">\n",
              "\n",
              "<svg xmlns=\"http://www.w3.org/2000/svg\" height=\"24px\"viewBox=\"0 0 24 24\"\n",
              "     width=\"24px\">\n",
              "    <g>\n",
              "        <path d=\"M19 3H5c-1.1 0-2 .9-2 2v14c0 1.1.9 2 2 2h14c1.1 0 2-.9 2-2V5c0-1.1-.9-2-2-2zM9 17H7v-7h2v7zm4 0h-2V7h2v10zm4 0h-2v-4h2v4z\"/>\n",
              "    </g>\n",
              "</svg>\n",
              "  </button>\n",
              "\n",
              "<style>\n",
              "  .colab-df-quickchart {\n",
              "      --bg-color: #E8F0FE;\n",
              "      --fill-color: #1967D2;\n",
              "      --hover-bg-color: #E2EBFA;\n",
              "      --hover-fill-color: #174EA6;\n",
              "      --disabled-fill-color: #AAA;\n",
              "      --disabled-bg-color: #DDD;\n",
              "  }\n",
              "\n",
              "  [theme=dark] .colab-df-quickchart {\n",
              "      --bg-color: #3B4455;\n",
              "      --fill-color: #D2E3FC;\n",
              "      --hover-bg-color: #434B5C;\n",
              "      --hover-fill-color: #FFFFFF;\n",
              "      --disabled-bg-color: #3B4455;\n",
              "      --disabled-fill-color: #666;\n",
              "  }\n",
              "\n",
              "  .colab-df-quickchart {\n",
              "    background-color: var(--bg-color);\n",
              "    border: none;\n",
              "    border-radius: 50%;\n",
              "    cursor: pointer;\n",
              "    display: none;\n",
              "    fill: var(--fill-color);\n",
              "    height: 32px;\n",
              "    padding: 0;\n",
              "    width: 32px;\n",
              "  }\n",
              "\n",
              "  .colab-df-quickchart:hover {\n",
              "    background-color: var(--hover-bg-color);\n",
              "    box-shadow: 0 1px 2px rgba(60, 64, 67, 0.3), 0 1px 3px 1px rgba(60, 64, 67, 0.15);\n",
              "    fill: var(--button-hover-fill-color);\n",
              "  }\n",
              "\n",
              "  .colab-df-quickchart-complete:disabled,\n",
              "  .colab-df-quickchart-complete:disabled:hover {\n",
              "    background-color: var(--disabled-bg-color);\n",
              "    fill: var(--disabled-fill-color);\n",
              "    box-shadow: none;\n",
              "  }\n",
              "\n",
              "  .colab-df-spinner {\n",
              "    border: 2px solid var(--fill-color);\n",
              "    border-color: transparent;\n",
              "    border-bottom-color: var(--fill-color);\n",
              "    animation:\n",
              "      spin 1s steps(1) infinite;\n",
              "  }\n",
              "\n",
              "  @keyframes spin {\n",
              "    0% {\n",
              "      border-color: transparent;\n",
              "      border-bottom-color: var(--fill-color);\n",
              "      border-left-color: var(--fill-color);\n",
              "    }\n",
              "    20% {\n",
              "      border-color: transparent;\n",
              "      border-left-color: var(--fill-color);\n",
              "      border-top-color: var(--fill-color);\n",
              "    }\n",
              "    30% {\n",
              "      border-color: transparent;\n",
              "      border-left-color: var(--fill-color);\n",
              "      border-top-color: var(--fill-color);\n",
              "      border-right-color: var(--fill-color);\n",
              "    }\n",
              "    40% {\n",
              "      border-color: transparent;\n",
              "      border-right-color: var(--fill-color);\n",
              "      border-top-color: var(--fill-color);\n",
              "    }\n",
              "    60% {\n",
              "      border-color: transparent;\n",
              "      border-right-color: var(--fill-color);\n",
              "    }\n",
              "    80% {\n",
              "      border-color: transparent;\n",
              "      border-right-color: var(--fill-color);\n",
              "      border-bottom-color: var(--fill-color);\n",
              "    }\n",
              "    90% {\n",
              "      border-color: transparent;\n",
              "      border-bottom-color: var(--fill-color);\n",
              "    }\n",
              "  }\n",
              "</style>\n",
              "\n",
              "  <script>\n",
              "    async function quickchart(key) {\n",
              "      const quickchartButtonEl =\n",
              "        document.querySelector('#' + key + ' button');\n",
              "      quickchartButtonEl.disabled = true;  // To prevent multiple clicks.\n",
              "      quickchartButtonEl.classList.add('colab-df-spinner');\n",
              "      try {\n",
              "        const charts = await google.colab.kernel.invokeFunction(\n",
              "            'suggestCharts', [key], {});\n",
              "      } catch (error) {\n",
              "        console.error('Error during call to suggestCharts:', error);\n",
              "      }\n",
              "      quickchartButtonEl.classList.remove('colab-df-spinner');\n",
              "      quickchartButtonEl.classList.add('colab-df-quickchart-complete');\n",
              "    }\n",
              "    (() => {\n",
              "      let quickchartButtonEl =\n",
              "        document.querySelector('#df-c8355938-bf94-48e7-b119-f05010544980 button');\n",
              "      quickchartButtonEl.style.display =\n",
              "        google.colab.kernel.accessAllowed ? 'block' : 'none';\n",
              "    })();\n",
              "  </script>\n",
              "</div>\n",
              "    </div>\n",
              "  </div>\n"
            ]
          },
          "metadata": {},
          "execution_count": 8
        }
      ]
    },
    {
      "cell_type": "code",
      "source": [
        "train, val = train_test_split(dataset, test_size=0.1, shuffle=False)"
      ],
      "metadata": {
        "id": "2IXMfQXP-OQj"
      },
      "execution_count": 9,
      "outputs": []
    },
    {
      "cell_type": "code",
      "source": [
        "print(train.shape, val.shape)"
      ],
      "metadata": {
        "colab": {
          "base_uri": "https://localhost:8080/"
        },
        "id": "-Xlh_JwHhWKa",
        "outputId": "069c9092-c090-4533-ecd6-701fbc6aec1c"
      },
      "execution_count": 10,
      "outputs": [
        {
          "output_type": "stream",
          "name": "stdout",
          "text": [
            "(5276, 6) (587, 6)\n"
          ]
        }
      ]
    },
    {
      "cell_type": "code",
      "source": [
        "scaler = MinMaxScaler().fit(train.to_numpy()) # fit scaler"
      ],
      "metadata": {
        "id": "odDcL69ewyZc"
      },
      "execution_count": 11,
      "outputs": []
    },
    {
      "cell_type": "markdown",
      "source": [
        "### Create a PyTorch Dataset"
      ],
      "metadata": {
        "id": "e8tCINprZe_d"
      }
    },
    {
      "cell_type": "code",
      "source": [
        "class TimeSeriesDataset(Dataset):\n",
        "    def __init__(self, dataset, scaler):\n",
        "        dataset = scaler.transform(dataset.to_numpy())\n",
        "        X, y = dataset[:, :window_size], dataset[:, window_size:]\n",
        "        self.dataset = dataset\n",
        "        self.X = torch.tensor(np.expand_dims(X, axis=-1)).float()\n",
        "        self.y = torch.tensor(y).float()\n",
        "\n",
        "    def __len__(self):\n",
        "        return len(self.dataset)\n",
        "\n",
        "    def __getitem__(self, idx):\n",
        "        return self.X[idx], self.y[idx]"
      ],
      "metadata": {
        "id": "e52dkUBihJWf"
      },
      "execution_count": 12,
      "outputs": []
    },
    {
      "cell_type": "code",
      "source": [
        "batch_size = 32\n",
        "\n",
        "# load in datasets\n",
        "train_ds = TimeSeriesDataset(train, scaler)\n",
        "val_ds = TimeSeriesDataset(val, scaler)\n",
        "\n",
        "# batch into dataloaders\n",
        "train_loader = DataLoader(train_ds, batch_size=batch_size, shuffle=True)\n",
        "val_loader = DataLoader(val_ds, batch_size=batch_size, shuffle=False)"
      ],
      "metadata": {
        "id": "Pa1bnofO1Whu"
      },
      "execution_count": 13,
      "outputs": []
    },
    {
      "cell_type": "code",
      "source": [
        "print(f'Train Loader Size: {len(train_loader)} \\nValid Loader Size: {len(val_loader)}')"
      ],
      "metadata": {
        "colab": {
          "base_uri": "https://localhost:8080/"
        },
        "id": "v3qEqYE5-COx",
        "outputId": "da3c2bfb-537a-4a74-9c34-d24f569a90c0"
      },
      "execution_count": 14,
      "outputs": [
        {
          "output_type": "stream",
          "name": "stdout",
          "text": [
            "Train Loader Size: 165 \n",
            "Valid Loader Size: 19\n"
          ]
        }
      ]
    },
    {
      "cell_type": "code",
      "source": [
        "for ex_in, ex_out in train_loader:\n",
        "    print(ex_in.shape, ex_out.shape)\n",
        "    break"
      ],
      "metadata": {
        "colab": {
          "base_uri": "https://localhost:8080/"
        },
        "id": "gSCeSEzY2IWR",
        "outputId": "d673e1ee-5070-40e4-fd32-005ec5e7d2b5"
      },
      "execution_count": 15,
      "outputs": [
        {
          "output_type": "stream",
          "name": "stdout",
          "text": [
            "torch.Size([32, 5, 1]) torch.Size([32, 1])\n"
          ]
        }
      ]
    },
    {
      "cell_type": "markdown",
      "source": [
        "# Define Model"
      ],
      "metadata": {
        "id": "_5quMZmKDd7L"
      }
    },
    {
      "cell_type": "code",
      "source": [
        "INPUT_SIZE = 1\n",
        "HIDDEN_SIZE = 64\n",
        "OUTPUT_SIZE = 1\n",
        "NUM_LAYERS = 2\n",
        "DEVICE = torch.device(\"cuda:0\" if torch.cuda.is_available() else \"cpu\")"
      ],
      "metadata": {
        "id": "TM2JqCMARYKo"
      },
      "execution_count": 16,
      "outputs": []
    },
    {
      "cell_type": "code",
      "source": [
        "class LSTM(nn.Module):\n",
        "    def __init__(self, input_size, hidden_size, output_size, num_layers):\n",
        "        super(LSTM, self).__init__()\n",
        "        self.input_size = input_size\n",
        "        self.hidden_size = hidden_size\n",
        "        self.output_size = output_size\n",
        "        self.num_layers = num_layers\n",
        "        self.lstm = nn.LSTM(input_size,\n",
        "                            hidden_size,\n",
        "                            num_layers,\n",
        "                            batch_first=True)\n",
        "        self.fc = nn.Linear(hidden_size, output_size)\n",
        "\n",
        "    def forward(self, x):\n",
        "        out, _ = self.lstm(x)\n",
        "        out = self.fc(out[:, -1, :])\n",
        "        return out"
      ],
      "metadata": {
        "id": "PG29j1C0HSPv"
      },
      "execution_count": 17,
      "outputs": []
    },
    {
      "cell_type": "markdown",
      "source": [
        "# Create Early Stopper"
      ],
      "metadata": {
        "id": "R9h7To4dpDUU"
      }
    },
    {
      "cell_type": "code",
      "source": [
        "class EarlyStopping:\n",
        "    \"\"\"\n",
        "    Early stopping utility for monitoring validation loss during training.\n",
        "\n",
        "    Args:\n",
        "        patience (int): Number of epochs with no improvement after which training will be stopped.\n",
        "        min_delta (float): Minimum change in the monitored quantity to qualify as an improvement.\n",
        "        restore_best_weights (bool): Whether to restore the model to the best state when stopping.\n",
        "\n",
        "    Attributes:\n",
        "        patience (int): Number of epochs with no improvement after which training will be stopped.\n",
        "        min_delta (float): Minimum change in the monitored quantity to qualify as an improvement.\n",
        "        restore_best_weights (bool): Whether to restore the model to the best state when stopping.\n",
        "        best_model: Copy of the model with the best validation loss.\n",
        "        best_loss (float): Best validation loss observed so far.\n",
        "        counter (int): Counter for the number of epochs with no improvement.\n",
        "        status (str): Current status message indicating the early stopping progress.\n",
        "    \"\"\"\n",
        "\n",
        "    def __init__(self, patience=5, min_delta=0, restore_best_weights=True):\n",
        "        self.patience = patience\n",
        "        self.min_delta = min_delta\n",
        "        self.restore_best_weights = restore_best_weights\n",
        "        self.best_model = None\n",
        "        self.best_loss = None\n",
        "        self.counter = 0\n",
        "        self.status = \"\"\n",
        "\n",
        "    def __call__(self, model, val_loss):\n",
        "        \"\"\"\n",
        "        Check whether to stop training based on the validation loss.\n",
        "\n",
        "        Args:\n",
        "            model: The deep learning model being monitored.\n",
        "            val_loss (float): Current validation loss.\n",
        "\n",
        "        Returns:\n",
        "            bool: True if training should be stopped, False otherwise.\n",
        "        \"\"\"\n",
        "        if self.best_loss is None:\n",
        "            self.best_loss = val_loss\n",
        "            self.best_model = copy.deepcopy(model)\n",
        "        elif self.best_loss - val_loss > self.min_delta:\n",
        "            self.best_loss = val_loss\n",
        "            self.counter = 0\n",
        "            self.best_model.load_state_dict(model.state_dict())\n",
        "        elif self.best_loss - val_loss < self.min_delta:\n",
        "            self.counter += 1\n",
        "            if self.counter >= self.patience:\n",
        "                self.status = f\"Stopped on {self.counter}\"\n",
        "                if self.restore_best_weights:\n",
        "                    model.load_state_dict(self.best_model.state_dict())\n",
        "                return True\n",
        "        self.status = f\"{self.counter}/{self.patience}\"\n",
        "        return False"
      ],
      "metadata": {
        "id": "3iTrb8zdTaVh"
      },
      "execution_count": 18,
      "outputs": []
    },
    {
      "cell_type": "markdown",
      "source": [
        "# Create Trainer"
      ],
      "metadata": {
        "id": "uAq4zlzPpFxO"
      }
    },
    {
      "cell_type": "code",
      "source": [
        "class Trainer:\n",
        "    \"\"\"\n",
        "    A class for training and evaluating a deep learning model.\n",
        "\n",
        "    Args:\n",
        "        train_loader (torch.utils.data.DataLoader): DataLoader for the training dataset.\n",
        "        val_loader (torch.utils.data.DataLoader): DataLoader for the validation dataset.\n",
        "        criterion: Loss criterion for training.\n",
        "        optimizer: Optimizer for updating model parameters.\n",
        "        model: The deep learning model to train and evaluate.\n",
        "        device: Device on which to perform computations (e.g., 'cuda' or 'cpu').\n",
        "        max_epochs (int): Maximum number of training epochs.\n",
        "\n",
        "    Attributes:\n",
        "        train_loader (torch.utils.data.DataLoader): DataLoader for the training dataset.\n",
        "        val_loader (torch.utils.data.DataLoader): DataLoader for the validation dataset.\n",
        "        criterion: Loss criterion for training.\n",
        "        optimizer: Optimizer for updating model parameters.\n",
        "        model: The deep learning model being trained and evaluated.\n",
        "        device: Device on which computations are performed.\n",
        "        early_stopper: Early stopping utility to monitor validation loss.\n",
        "        max_epochs (int): Maximum number of training epochs.\n",
        "        history (dict): Training and validation loss history.\n",
        "        output_dir (str): Directory to save trained models.\n",
        "    \"\"\"\n",
        "\n",
        "    def __init__(self,\n",
        "                 train_loader,\n",
        "                 val_loader,\n",
        "                 criterion,\n",
        "                 optimizer,\n",
        "                 model,\n",
        "                 device,\n",
        "                 max_epochs):\n",
        "        self.train_loader = train_loader\n",
        "        self.val_loader = val_loader\n",
        "        self.criterion = criterion\n",
        "        self.optimizer = optimizer\n",
        "        self.model = model\n",
        "        self.device = device\n",
        "        self.early_stopper = EarlyStopping(patience=10)\n",
        "        self.max_epochs = max_epochs\n",
        "        self.history = {}\n",
        "\n",
        "    def _train_epoch(self):\n",
        "        \"\"\"\n",
        "        Perform a single training epoch.\n",
        "\n",
        "        Returns:\n",
        "            float: Average training loss for the epoch.\n",
        "        \"\"\"\n",
        "        self.model.train()\n",
        "        running_loss = 0.00\n",
        "        for batch_idx, (input, truth) in enumerate(self.train_loader):\n",
        "            input, truth = input.to(self.device), truth.to(self.device)\n",
        "            self.optimizer.zero_grad()\n",
        "            pred = self.model(input)\n",
        "            loss = self.criterion(pred, truth)\n",
        "            loss.backward()\n",
        "            self.optimizer.step()\n",
        "            running_loss += loss.item()\n",
        "\n",
        "        return running_loss / len(self.train_loader)\n",
        "\n",
        "    @torch.no_grad()\n",
        "    def _eval_epoch(self):\n",
        "        \"\"\"\n",
        "        Perform a single evaluation epoch.\n",
        "\n",
        "        Returns:\n",
        "            float: Average validation loss for the epoch.\n",
        "        \"\"\"\n",
        "        self.model.eval()\n",
        "        running_loss = 0.00\n",
        "        for batch_idx, (input, truth) in enumerate(self.val_loader):\n",
        "            input, truth = input.to(self.device), truth.to(self.device)\n",
        "            pred = self.model(input)\n",
        "            loss = self.criterion(pred, truth)\n",
        "            running_loss += loss.item()\n",
        "        return running_loss / len(self.val_loader)\n",
        "\n",
        "    def train(self):\n",
        "        \"\"\"\n",
        "        Train the model using the provided training and validation data.\n",
        "\n",
        "        This method trains the model for the specified number of epochs,\n",
        "        monitoring training and validation loss, and applying early stopping.\n",
        "        \"\"\"\n",
        "        best_val_loss = np.inf\n",
        "        best_epoch = 0\n",
        "\n",
        "        train_losses, val_losses = [], []\n",
        "        for epoch in range(self.max_epochs):\n",
        "            tloss = self._train_epoch()\n",
        "            train_losses.append(tloss)\n",
        "\n",
        "            vloss = self._eval_epoch()\n",
        "            val_losses.append(vloss)\n",
        "\n",
        "            if (epoch + 1 == 1) or ((epoch + 1) % 5 == 0):\n",
        "                print(f'Epoch {epoch+1}/{self.max_epochs}:')\n",
        "                print(f'Train loss: {tloss:.4f}')\n",
        "                print(f'Val loss: {vloss:.4f}')\n",
        "                print()\n",
        "\n",
        "            if vloss < best_val_loss:\n",
        "                best_val_loss = vloss\n",
        "                best_epoch = epoch + 1\n",
        "\n",
        "            if self.early_stopper(self.model, vloss):\n",
        "                print(f'best epoch: {best_epoch}')\n",
        "                break\n",
        "\n",
        "        print('Training Finished')\n",
        "\n",
        "        self.history = {'train': train_losses, 'val': val_losses}\n",
        "\n",
        "    def evaluate(self):\n",
        "        \"\"\"\n",
        "        Evaluate the trained model on the validation dataset.\n",
        "\n",
        "        Returns:\n",
        "            float: Rounded validation loss.\n",
        "        \"\"\"\n",
        "        vloss = self._eval_epoch()\n",
        "        return np.round(vloss, 4)"
      ],
      "metadata": {
        "id": "7C6pJJt3Smxf"
      },
      "execution_count": 19,
      "outputs": []
    },
    {
      "cell_type": "markdown",
      "source": [
        "# Train Model"
      ],
      "metadata": {
        "id": "i7bpaqZLpIJw"
      }
    },
    {
      "cell_type": "code",
      "source": [
        "model = LSTM(\n",
        "    INPUT_SIZE,\n",
        "    HIDDEN_SIZE,\n",
        "    OUTPUT_SIZE,\n",
        "    NUM_LAYERS\n",
        ").to(DEVICE)\n",
        "criterion = nn.MSELoss()\n",
        "optimizer = torch.optim.AdamW(model.parameters(), lr=2e-6, weight_decay=0.01)"
      ],
      "metadata": {
        "id": "YymqUX0hR9AP"
      },
      "execution_count": 20,
      "outputs": []
    },
    {
      "cell_type": "code",
      "source": [
        "print(model)"
      ],
      "metadata": {
        "colab": {
          "base_uri": "https://localhost:8080/"
        },
        "id": "BhLLO6KOX6KH",
        "outputId": "3a3ce211-8181-439c-9471-6af4dff1f4b9"
      },
      "execution_count": 21,
      "outputs": [
        {
          "output_type": "stream",
          "name": "stdout",
          "text": [
            "LSTM(\n",
            "  (lstm): LSTM(1, 64, num_layers=2, batch_first=True)\n",
            "  (fc): Linear(in_features=64, out_features=1, bias=True)\n",
            ")\n"
          ]
        }
      ]
    },
    {
      "cell_type": "code",
      "source": [
        "with torch.no_grad():\n",
        "    print(model(ex_in.to(DEVICE)).shape)"
      ],
      "metadata": {
        "colab": {
          "base_uri": "https://localhost:8080/"
        },
        "id": "6dwY5uVjuxGw",
        "outputId": "27a186a9-9d0c-4bcb-a76f-d04c6f142784"
      },
      "execution_count": 22,
      "outputs": [
        {
          "output_type": "stream",
          "name": "stdout",
          "text": [
            "torch.Size([32, 1])\n"
          ]
        }
      ]
    },
    {
      "cell_type": "code",
      "source": [
        "trainer = Trainer(\n",
        "    train_loader=train_loader,\n",
        "    val_loader=val_loader,\n",
        "    criterion=criterion,\n",
        "    optimizer=optimizer,\n",
        "    model=model,\n",
        "    device=DEVICE,\n",
        "    max_epochs=500\n",
        ")\n",
        "\n",
        "trainer.train()"
      ],
      "metadata": {
        "colab": {
          "base_uri": "https://localhost:8080/"
        },
        "id": "oCsYKSuMEXDF",
        "outputId": "8431466c-77e7-4cf9-ca2c-f5691e1a51ca"
      },
      "execution_count": 23,
      "outputs": [
        {
          "output_type": "stream",
          "name": "stdout",
          "text": [
            "Epoch 1/500:\n",
            "Train loss: 0.1004\n",
            "Val loss: 1.7136\n",
            "\n",
            "Epoch 5/500:\n",
            "Train loss: 0.0870\n",
            "Val loss: 1.6375\n",
            "\n",
            "Epoch 10/500:\n",
            "Train loss: 0.0726\n",
            "Val loss: 1.5431\n",
            "\n",
            "Epoch 15/500:\n",
            "Train loss: 0.0606\n",
            "Val loss: 1.4456\n",
            "\n",
            "Epoch 20/500:\n",
            "Train loss: 0.0510\n",
            "Val loss: 1.3463\n",
            "\n",
            "Epoch 25/500:\n",
            "Train loss: 0.0444\n",
            "Val loss: 1.2493\n",
            "\n",
            "Epoch 30/500:\n",
            "Train loss: 0.0407\n",
            "Val loss: 1.1639\n",
            "\n",
            "Epoch 35/500:\n",
            "Train loss: 0.0389\n",
            "Val loss: 1.0982\n",
            "\n",
            "Epoch 40/500:\n",
            "Train loss: 0.0377\n",
            "Val loss: 1.0513\n",
            "\n",
            "Epoch 45/500:\n",
            "Train loss: 0.0366\n",
            "Val loss: 1.0133\n",
            "\n",
            "Epoch 50/500:\n",
            "Train loss: 0.0355\n",
            "Val loss: 0.9757\n",
            "\n",
            "Epoch 55/500:\n",
            "Train loss: 0.0342\n",
            "Val loss: 0.9363\n",
            "\n",
            "Epoch 60/500:\n",
            "Train loss: 0.0327\n",
            "Val loss: 0.8928\n",
            "\n",
            "Epoch 65/500:\n",
            "Train loss: 0.0312\n",
            "Val loss: 0.8453\n",
            "\n",
            "Epoch 70/500:\n",
            "Train loss: 0.0295\n",
            "Val loss: 0.7935\n",
            "\n",
            "Epoch 75/500:\n",
            "Train loss: 0.0275\n",
            "Val loss: 0.7332\n",
            "\n",
            "Epoch 80/500:\n",
            "Train loss: 0.0253\n",
            "Val loss: 0.6668\n",
            "\n",
            "Epoch 85/500:\n",
            "Train loss: 0.0229\n",
            "Val loss: 0.5942\n",
            "\n",
            "Epoch 90/500:\n",
            "Train loss: 0.0203\n",
            "Val loss: 0.5142\n",
            "\n",
            "Epoch 95/500:\n",
            "Train loss: 0.0174\n",
            "Val loss: 0.4283\n",
            "\n",
            "Epoch 100/500:\n",
            "Train loss: 0.0144\n",
            "Val loss: 0.3389\n",
            "\n",
            "Epoch 105/500:\n",
            "Train loss: 0.0113\n",
            "Val loss: 0.2472\n",
            "\n",
            "Epoch 110/500:\n",
            "Train loss: 0.0082\n",
            "Val loss: 0.1619\n",
            "\n",
            "Epoch 115/500:\n",
            "Train loss: 0.0053\n",
            "Val loss: 0.0883\n",
            "\n",
            "Epoch 120/500:\n",
            "Train loss: 0.0030\n",
            "Val loss: 0.0353\n",
            "\n",
            "Epoch 125/500:\n",
            "Train loss: 0.0013\n",
            "Val loss: 0.0068\n",
            "\n",
            "Epoch 130/500:\n",
            "Train loss: 0.0005\n",
            "Val loss: 0.0020\n",
            "\n",
            "Epoch 135/500:\n",
            "Train loss: 0.0003\n",
            "Val loss: 0.0075\n",
            "\n",
            "best epoch: 129\n",
            "Training Finished\n"
          ]
        }
      ]
    },
    {
      "cell_type": "markdown",
      "source": [
        "# Evaluate Training"
      ],
      "metadata": {
        "id": "D0P9m23cSTvW"
      }
    },
    {
      "cell_type": "code",
      "source": [
        "trainer.evaluate()"
      ],
      "metadata": {
        "colab": {
          "base_uri": "https://localhost:8080/"
        },
        "id": "BoOQ_7UKNJId",
        "outputId": "2f03fe90-6b46-4e06-85e5-8a5a74c2d927"
      },
      "execution_count": 24,
      "outputs": [
        {
          "output_type": "execute_result",
          "data": {
            "text/plain": [
              "0.0016"
            ]
          },
          "metadata": {},
          "execution_count": 24
        }
      ]
    },
    {
      "cell_type": "code",
      "source": [
        "history = trainer.history\n",
        "epochs = range(1, len(history['train']) + 1)\n",
        "plt.plot(epochs, history['train'], label='Train Loss')\n",
        "plt.plot(epochs, history['val'], label='Validation Loss')\n",
        "plt.title('Loss Over Epoch')\n",
        "plt.legend()\n",
        "plt.xlabel('Epoch')\n",
        "plt.ylabel('Scaled MSE Loss')\n",
        "plt.show()"
      ],
      "metadata": {
        "id": "-FGp_V4_SW_E",
        "outputId": "2d25ae85-ea74-4767-d5b3-8c0ccc2098bb",
        "colab": {
          "base_uri": "https://localhost:8080/",
          "height": 557
        }
      },
      "execution_count": 25,
      "outputs": [
        {
          "output_type": "display_data",
          "data": {
            "text/plain": [
              "<Figure size 1000x600 with 1 Axes>"
            ],
            "image/png": "[encoded data removed]"
          },
          "metadata": {}
        }
      ]
    },
    {
      "cell_type": "markdown",
      "source": [
        "# Visualize Forecast on Validation Data"
      ],
      "metadata": {
        "id": "fGlIphYYpTrH"
      }
    },
    {
      "cell_type": "code",
      "source": [
        "torch_to_numpy = lambda x: x.flatten().detach().cpu().numpy()"
      ],
      "metadata": {
        "id": "DLmv68Hf7Xim"
      },
      "execution_count": 26,
      "outputs": []
    },
    {
      "cell_type": "code",
      "source": [
        "preds = []\n",
        "truths = []\n",
        "with torch.no_grad():\n",
        "    for in_data, out_data in val_ds:\n",
        "        # Add inputs to device\n",
        "        in_data = in_data.to(DEVICE)\n",
        "\n",
        "        # Forward call\n",
        "        output = model(in_data.unsqueeze(0))\n",
        "\n",
        "        # Concat and inverse transform\n",
        "        preds_array = scaler.inverse_transform(\n",
        "            np.concatenate([\n",
        "                torch_to_numpy(in_data),\n",
        "                torch_to_numpy(output)\n",
        "            ]).reshape(1, -1)\n",
        "        )\n",
        "        truth_array = scaler.inverse_transform(\n",
        "            np.concatenate([\n",
        "                torch_to_numpy(in_data),\n",
        "                torch_to_numpy(out_data)\n",
        "            ]).reshape(1, -1)\n",
        "        )\n",
        "\n",
        "        # Append data\n",
        "        truths.append(truth_array.flatten()[-1])\n",
        "        preds.append(preds_array.flatten()[-1])"
      ],
      "metadata": {
        "id": "U8g4_rpqzsaP"
      },
      "execution_count": 27,
      "outputs": []
    },
    {
      "cell_type": "code",
      "source": [
        "plt.plot(truths, label=\"Truth\")\n",
        "plt.plot(preds, label=\"Predicted\")\n",
        "plt.legend()\n",
        "plt.ylabel(\"Adj Close\")\n",
        "plt.xlabel(\"Validation Time Step\")\n",
        "plt.title(\"Validation Plot\")\n",
        "plt.show()"
      ],
      "metadata": {
        "colab": {
          "base_uri": "https://localhost:8080/",
          "height": 557
        },
        "id": "q390xwBR3-SI",
        "outputId": "c76a894c-f24d-43a2-ac9b-acf948dc5a2a"
      },
      "execution_count": 28,
      "outputs": [
        {
          "output_type": "display_data",
          "data": {
            "text/plain": [
              "<Figure size 1000x600 with 1 Axes>"
            ],
            "image/png": "[encoded data removed]"
          },
          "metadata": {}
        }
      ]
    },
    {
      "cell_type": "markdown",
      "source": [
        "# Create a Regression Report"
      ],
      "metadata": {
        "id": "rxPFsWI-OUjV"
      }
    },
    {
      "cell_type": "code",
      "source": [
        "def regression_report(y_true, y_pred):\n",
        "    \"\"\"\n",
        "    Function to return a dictionary containing MAE, r2_score, MSE, and RMSE.\n",
        "    \"\"\"\n",
        "    keys = [\"MAE\", \"r2_score\", \"MSE\"]\n",
        "    functions = [mean_absolute_error, r2_score, mean_squared_error]\n",
        "    metrics = {k: v(y_true, y_pred) for k, v in zip(keys, functions)}\n",
        "    metrics[\"RMSE\"] = np.sqrt(metrics[\"MSE\"])\n",
        "    return metrics"
      ],
      "metadata": {
        "id": "9x69cUDCOWtr"
      },
      "execution_count": 29,
      "outputs": []
    },
    {
      "cell_type": "code",
      "source": [
        "regression_report(truths, preds)"
      ],
      "metadata": {
        "colab": {
          "base_uri": "https://localhost:8080/"
        },
        "id": "_eDsa8zhP6NB",
        "outputId": "3660f9fe-a31a-488c-860e-31599b9e8364"
      },
      "execution_count": 30,
      "outputs": [
        {
          "output_type": "execute_result",
          "data": {
            "text/plain": [
              "{'MAE': 6.711956,\n",
              " 'r2_score': 0.9218867095299708,\n",
              " 'MSE': 72.12731,\n",
              " 'RMSE': 8.49278}"
            ]
          },
          "metadata": {},
          "execution_count": 30
        }
      ]
    }
  ]
}