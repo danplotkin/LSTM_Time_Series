{
  "nbformat": 4,
  "nbformat_minor": 0,
  "metadata": {
    "colab": {
      "provenance": [],
      "include_colab_link": true
    },
    "kernelspec": {
      "name": "python3",
      "display_name": "Python 3"
    },
    "language_info": {
      "name": "python"
    },
    "gpuClass": "standard"
  },
  "cells": [
    {
      "cell_type": "markdown",
      "metadata": {
        "id": "view-in-github",
        "colab_type": "text"
      },
      "source": [
        "<a href=\"https://colab.research.google.com/github/danplotkin/LSTM_Time_Series/blob/main/TimeSeriesLSTM_bidirectional.ipynb\" target=\"_parent\"><img src=\"https://colab.research.google.com/assets/colab-badge.svg\" alt=\"Open In Colab\"/></a>"
      ]
    },
    {
      "cell_type": "markdown",
      "source": [
        "# Import Libraries"
      ],
      "metadata": {
        "id": "Dq170vW5qaLt"
      }
    },
    {
      "cell_type": "code",
      "source": [
        "import os\n",
        "import pandas as pd\n",
        "import numpy as np\n",
        "import yfinance as yf\n",
        "from sklearn.preprocessing import MinMaxScaler\n",
        "from sklearn.model_selection import train_test_split\n",
        "from google.colab import drive\n",
        "import matplotlib.pyplot as plt\n",
        "import io\n",
        "import copy\n",
        "from sklearn.metrics import mean_squared_error\n",
        "drive.mount('/content/drive')\n",
        "\n",
        "import torch\n",
        "import torch.nn as nn\n",
        "import torch.optim as optim\n",
        "from torch.utils.data import DataLoader, Dataset\n",
        "\n",
        "plt.style.use('seaborn-v0_8-darkgrid')\n",
        "plt.rcParams['figure.figsize'] = (10, 6)"
      ],
      "metadata": {
        "id": "-AEb8la2qrkm",
        "colab": {
          "base_uri": "https://localhost:8080/"
        },
        "outputId": "44de5127-51db-4eb2-8c29-a929dcd1c181"
      },
      "execution_count": null,
      "outputs": [
        {
          "output_type": "stream",
          "name": "stdout",
          "text": [
            "Mounted at /content/drive\n"
          ]
        }
      ]
    },
    {
      "cell_type": "code",
      "source": [
        "torch.manual_seed(42)"
      ],
      "metadata": {
        "id": "oeoLbbkBTb49",
        "outputId": "6072f2a7-eb17-4518-f8c5-788d4a2720b3",
        "colab": {
          "base_uri": "https://localhost:8080/"
        }
      },
      "execution_count": null,
      "outputs": [
        {
          "output_type": "execute_result",
          "data": {
            "text/plain": [
              "<torch._C.Generator at 0x7f8d9174e850>"
            ]
          },
          "metadata": {},
          "execution_count": 2
        }
      ]
    },
    {
      "cell_type": "markdown",
      "source": [
        "# Load Data"
      ],
      "metadata": {
        "id": "HOhVc0tzozDk"
      }
    },
    {
      "cell_type": "code",
      "source": [
        "# Define the ticker symbol\n",
        "ticker = \"MSFT\"\n",
        "\n",
        "# Set the start and end dates for the data\n",
        "start_date = \"2000-01-01\"\n",
        "end_date = \"2023-04-30\"\n",
        "\n",
        "# Download the data from Yahoo Finance\n",
        "data = yf.download(ticker, start=start_date, end=end_date)"
      ],
      "metadata": {
        "colab": {
          "base_uri": "https://localhost:8080/"
        },
        "id": "R4N_JQSjrFYH",
        "outputId": "c9023437-9582-4451-c5f4-6498329d3b13"
      },
      "execution_count": null,
      "outputs": [
        {
          "output_type": "stream",
          "name": "stdout",
          "text": [
            "\r[*********************100%%**********************]  1 of 1 completed\n"
          ]
        }
      ]
    },
    {
      "cell_type": "code",
      "source": [
        "data.head()"
      ],
      "metadata": {
        "colab": {
          "base_uri": "https://localhost:8080/",
          "height": 237
        },
        "id": "ZdZp4lvXr0Fd",
        "outputId": "541b8bba-0978-495f-f776-ea4abbb477fc"
      },
      "execution_count": null,
      "outputs": [
        {
          "output_type": "execute_result",
          "data": {
            "text/plain": [
              "                Open     High       Low     Close  Adj Close    Volume\n",
              "Date                                                                  \n",
              "2000-01-03  58.68750  59.3125  56.00000  58.28125  36.205612  53228400\n",
              "2000-01-04  56.78125  58.5625  56.12500  56.31250  34.982548  54119000\n",
              "2000-01-05  55.56250  58.1875  54.68750  56.90625  35.351414  64059600\n",
              "2000-01-06  56.09375  56.9375  54.18750  55.00000  34.167221  54976600\n",
              "2000-01-07  54.31250  56.1250  53.65625  55.71875  34.613728  62013600"
            ],
            "text/html": [
              "\n",
              "  <div id=\"df-5ec5d83b-4b6d-40a4-8089-612786a43a41\" class=\"colab-df-container\">\n",
              "    <div>\n",
              "<style scoped>\n",
              "    .dataframe tbody tr th:only-of-type {\n",
              "        vertical-align: middle;\n",
              "    }\n",
              "\n",
              "    .dataframe tbody tr th {\n",
              "        vertical-align: top;\n",
              "    }\n",
              "\n",
              "    .dataframe thead th {\n",
              "        text-align: right;\n",
              "    }\n",
              "</style>\n",
              "<table border=\"1\" class=\"dataframe\">\n",
              "  <thead>\n",
              "    <tr style=\"text-align: right;\">\n",
              "      <th></th>\n",
              "      <th>Open</th>\n",
              "      <th>High</th>\n",
              "      <th>Low</th>\n",
              "      <th>Close</th>\n",
              "      <th>Adj Close</th>\n",
              "      <th>Volume</th>\n",
              "    </tr>\n",
              "    <tr>\n",
              "      <th>Date</th>\n",
              "      <th></th>\n",
              "      <th></th>\n",
              "      <th></th>\n",
              "      <th></th>\n",
              "      <th></th>\n",
              "      <th></th>\n",
              "    </tr>\n",
              "  </thead>\n",
              "  <tbody>\n",
              "    <tr>\n",
              "      <th>2000-01-03</th>\n",
              "      <td>58.68750</td>\n",
              "      <td>59.3125</td>\n",
              "      <td>56.00000</td>\n",
              "      <td>58.28125</td>\n",
              "      <td>36.205612</td>\n",
              "      <td>53228400</td>\n",
              "    </tr>\n",
              "    <tr>\n",
              "      <th>2000-01-04</th>\n",
              "      <td>56.78125</td>\n",
              "      <td>58.5625</td>\n",
              "      <td>56.12500</td>\n",
              "      <td>56.31250</td>\n",
              "      <td>34.982548</td>\n",
              "      <td>54119000</td>\n",
              "    </tr>\n",
              "    <tr>\n",
              "      <th>2000-01-05</th>\n",
              "      <td>55.56250</td>\n",
              "      <td>58.1875</td>\n",
              "      <td>54.68750</td>\n",
              "      <td>56.90625</td>\n",
              "      <td>35.351414</td>\n",
              "      <td>64059600</td>\n",
              "    </tr>\n",
              "    <tr>\n",
              "      <th>2000-01-06</th>\n",
              "      <td>56.09375</td>\n",
              "      <td>56.9375</td>\n",
              "      <td>54.18750</td>\n",
              "      <td>55.00000</td>\n",
              "      <td>34.167221</td>\n",
              "      <td>54976600</td>\n",
              "    </tr>\n",
              "    <tr>\n",
              "      <th>2000-01-07</th>\n",
              "      <td>54.31250</td>\n",
              "      <td>56.1250</td>\n",
              "      <td>53.65625</td>\n",
              "      <td>55.71875</td>\n",
              "      <td>34.613728</td>\n",
              "      <td>62013600</td>\n",
              "    </tr>\n",
              "  </tbody>\n",
              "</table>\n",
              "</div>\n",
              "    <div class=\"colab-df-buttons\">\n",
              "\n",
              "  <div class=\"colab-df-container\">\n",
              "    <button class=\"colab-df-convert\" onclick=\"convertToInteractive('df-5ec5d83b-4b6d-40a4-8089-612786a43a41')\"\n",
              "            title=\"Convert this dataframe to an interactive table.\"\n",
              "            style=\"display:none;\">\n",
              "\n",
              "  <svg xmlns=\"http://www.w3.org/2000/svg\" height=\"24px\" viewBox=\"0 -960 960 960\">\n",
              "    <path d=\"M120-120v-720h720v720H120Zm60-500h600v-160H180v160Zm220 220h160v-160H400v160Zm0 220h160v-160H400v160ZM180-400h160v-160H180v160Zm440 0h160v-160H620v160ZM180-180h160v-160H180v160Zm440 0h160v-160H620v160Z\"/>\n",
              "  </svg>\n",
              "    </button>\n",
              "\n",
              "  <style>\n",
              "    .colab-df-container {\n",
              "      display:flex;\n",
              "      gap: 12px;\n",
              "    }\n",
              "\n",
              "    .colab-df-convert {\n",
              "      background-color: #E8F0FE;\n",
              "      border: none;\n",
              "      border-radius: 50%;\n",
              "      cursor: pointer;\n",
              "      display: none;\n",
              "      fill: #1967D2;\n",
              "      height: 32px;\n",
              "      padding: 0 0 0 0;\n",
              "      width: 32px;\n",
              "    }\n",
              "\n",
              "    .colab-df-convert:hover {\n",
              "      background-color: #E2EBFA;\n",
              "      box-shadow: 0px 1px 2px rgba(60, 64, 67, 0.3), 0px 1px 3px 1px rgba(60, 64, 67, 0.15);\n",
              "      fill: #174EA6;\n",
              "    }\n",
              "\n",
              "    .colab-df-buttons div {\n",
              "      margin-bottom: 4px;\n",
              "    }\n",
              "\n",
              "    [theme=dark] .colab-df-convert {\n",
              "      background-color: #3B4455;\n",
              "      fill: #D2E3FC;\n",
              "    }\n",
              "\n",
              "    [theme=dark] .colab-df-convert:hover {\n",
              "      background-color: #434B5C;\n",
              "      box-shadow: 0px 1px 3px 1px rgba(0, 0, 0, 0.15);\n",
              "      filter: drop-shadow(0px 1px 2px rgba(0, 0, 0, 0.3));\n",
              "      fill: #FFFFFF;\n",
              "    }\n",
              "  </style>\n",
              "\n",
              "    <script>\n",
              "      const buttonEl =\n",
              "        document.querySelector('#df-5ec5d83b-4b6d-40a4-8089-612786a43a41 button.colab-df-convert');\n",
              "      buttonEl.style.display =\n",
              "        google.colab.kernel.accessAllowed ? 'block' : 'none';\n",
              "\n",
              "      async function convertToInteractive(key) {\n",
              "        const element = document.querySelector('#df-5ec5d83b-4b6d-40a4-8089-612786a43a41');\n",
              "        const dataTable =\n",
              "          await google.colab.kernel.invokeFunction('convertToInteractive',\n",
              "                                                    [key], {});\n",
              "        if (!dataTable) return;\n",
              "\n",
              "        const docLinkHtml = 'Like what you see? Visit the ' +\n",
              "          '<a target=\"_blank\" href=https://colab.research.google.com/notebooks/data_table.ipynb>data table notebook</a>'\n",
              "          + ' to learn more about interactive tables.';\n",
              "        element.innerHTML = '';\n",
              "        dataTable['output_type'] = 'display_data';\n",
              "        await google.colab.output.renderOutput(dataTable, element);\n",
              "        const docLink = document.createElement('div');\n",
              "        docLink.innerHTML = docLinkHtml;\n",
              "        element.appendChild(docLink);\n",
              "      }\n",
              "    </script>\n",
              "  </div>\n",
              "\n",
              "\n",
              "<div id=\"df-1c3f94a6-e2df-44f6-a517-5068ce9365e8\">\n",
              "  <button class=\"colab-df-quickchart\" onclick=\"quickchart('df-1c3f94a6-e2df-44f6-a517-5068ce9365e8')\"\n",
              "            title=\"Suggest charts.\"\n",
              "            style=\"display:none;\">\n",
              "\n",
              "<svg xmlns=\"http://www.w3.org/2000/svg\" height=\"24px\"viewBox=\"0 0 24 24\"\n",
              "     width=\"24px\">\n",
              "    <g>\n",
              "        <path d=\"M19 3H5c-1.1 0-2 .9-2 2v14c0 1.1.9 2 2 2h14c1.1 0 2-.9 2-2V5c0-1.1-.9-2-2-2zM9 17H7v-7h2v7zm4 0h-2V7h2v10zm4 0h-2v-4h2v4z\"/>\n",
              "    </g>\n",
              "</svg>\n",
              "  </button>\n",
              "\n",
              "<style>\n",
              "  .colab-df-quickchart {\n",
              "    background-color: #E8F0FE;\n",
              "    border: none;\n",
              "    border-radius: 50%;\n",
              "    cursor: pointer;\n",
              "    display: none;\n",
              "    fill: #1967D2;\n",
              "    height: 32px;\n",
              "    padding: 0 0 0 0;\n",
              "    width: 32px;\n",
              "  }\n",
              "\n",
              "  .colab-df-quickchart:hover {\n",
              "    background-color: #E2EBFA;\n",
              "    box-shadow: 0px 1px 2px rgba(60, 64, 67, 0.3), 0px 1px 3px 1px rgba(60, 64, 67, 0.15);\n",
              "    fill: #174EA6;\n",
              "  }\n",
              "\n",
              "  [theme=dark] .colab-df-quickchart {\n",
              "    background-color: #3B4455;\n",
              "    fill: #D2E3FC;\n",
              "  }\n",
              "\n",
              "  [theme=dark] .colab-df-quickchart:hover {\n",
              "    background-color: #434B5C;\n",
              "    box-shadow: 0px 1px 3px 1px rgba(0, 0, 0, 0.15);\n",
              "    filter: drop-shadow(0px 1px 2px rgba(0, 0, 0, 0.3));\n",
              "    fill: #FFFFFF;\n",
              "  }\n",
              "</style>\n",
              "\n",
              "  <script>\n",
              "    async function quickchart(key) {\n",
              "      const charts = await google.colab.kernel.invokeFunction(\n",
              "          'suggestCharts', [key], {});\n",
              "    }\n",
              "    (() => {\n",
              "      let quickchartButtonEl =\n",
              "        document.querySelector('#df-1c3f94a6-e2df-44f6-a517-5068ce9365e8 button');\n",
              "      quickchartButtonEl.style.display =\n",
              "        google.colab.kernel.accessAllowed ? 'block' : 'none';\n",
              "    })();\n",
              "  </script>\n",
              "</div>\n",
              "    </div>\n",
              "  </div>\n"
            ]
          },
          "metadata": {},
          "execution_count": 4
        }
      ]
    },
    {
      "cell_type": "code",
      "source": [
        "df = data.drop(labels=['Open', 'High', 'Low', 'Close', 'Volume'], axis=1)\n",
        "df.head()"
      ],
      "metadata": {
        "colab": {
          "base_uri": "https://localhost:8080/",
          "height": 237
        },
        "id": "jmMJZXfWsJYl",
        "outputId": "4a3861cb-6e01-4c76-d70e-7fbf9c69a9cd"
      },
      "execution_count": null,
      "outputs": [
        {
          "output_type": "execute_result",
          "data": {
            "text/plain": [
              "            Adj Close\n",
              "Date                 \n",
              "2000-01-03  36.205612\n",
              "2000-01-04  34.982548\n",
              "2000-01-05  35.351414\n",
              "2000-01-06  34.167221\n",
              "2000-01-07  34.613728"
            ],
            "text/html": [
              "\n",
              "  <div id=\"df-9ccf4da3-1ebc-4928-a836-1beb09a85c0a\" class=\"colab-df-container\">\n",
              "    <div>\n",
              "<style scoped>\n",
              "    .dataframe tbody tr th:only-of-type {\n",
              "        vertical-align: middle;\n",
              "    }\n",
              "\n",
              "    .dataframe tbody tr th {\n",
              "        vertical-align: top;\n",
              "    }\n",
              "\n",
              "    .dataframe thead th {\n",
              "        text-align: right;\n",
              "    }\n",
              "</style>\n",
              "<table border=\"1\" class=\"dataframe\">\n",
              "  <thead>\n",
              "    <tr style=\"text-align: right;\">\n",
              "      <th></th>\n",
              "      <th>Adj Close</th>\n",
              "    </tr>\n",
              "    <tr>\n",
              "      <th>Date</th>\n",
              "      <th></th>\n",
              "    </tr>\n",
              "  </thead>\n",
              "  <tbody>\n",
              "    <tr>\n",
              "      <th>2000-01-03</th>\n",
              "      <td>36.205612</td>\n",
              "    </tr>\n",
              "    <tr>\n",
              "      <th>2000-01-04</th>\n",
              "      <td>34.982548</td>\n",
              "    </tr>\n",
              "    <tr>\n",
              "      <th>2000-01-05</th>\n",
              "      <td>35.351414</td>\n",
              "    </tr>\n",
              "    <tr>\n",
              "      <th>2000-01-06</th>\n",
              "      <td>34.167221</td>\n",
              "    </tr>\n",
              "    <tr>\n",
              "      <th>2000-01-07</th>\n",
              "      <td>34.613728</td>\n",
              "    </tr>\n",
              "  </tbody>\n",
              "</table>\n",
              "</div>\n",
              "    <div class=\"colab-df-buttons\">\n",
              "\n",
              "  <div class=\"colab-df-container\">\n",
              "    <button class=\"colab-df-convert\" onclick=\"convertToInteractive('df-9ccf4da3-1ebc-4928-a836-1beb09a85c0a')\"\n",
              "            title=\"Convert this dataframe to an interactive table.\"\n",
              "            style=\"display:none;\">\n",
              "\n",
              "  <svg xmlns=\"http://www.w3.org/2000/svg\" height=\"24px\" viewBox=\"0 -960 960 960\">\n",
              "    <path d=\"M120-120v-720h720v720H120Zm60-500h600v-160H180v160Zm220 220h160v-160H400v160Zm0 220h160v-160H400v160ZM180-400h160v-160H180v160Zm440 0h160v-160H620v160ZM180-180h160v-160H180v160Zm440 0h160v-160H620v160Z\"/>\n",
              "  </svg>\n",
              "    </button>\n",
              "\n",
              "  <style>\n",
              "    .colab-df-container {\n",
              "      display:flex;\n",
              "      gap: 12px;\n",
              "    }\n",
              "\n",
              "    .colab-df-convert {\n",
              "      background-color: #E8F0FE;\n",
              "      border: none;\n",
              "      border-radius: 50%;\n",
              "      cursor: pointer;\n",
              "      display: none;\n",
              "      fill: #1967D2;\n",
              "      height: 32px;\n",
              "      padding: 0 0 0 0;\n",
              "      width: 32px;\n",
              "    }\n",
              "\n",
              "    .colab-df-convert:hover {\n",
              "      background-color: #E2EBFA;\n",
              "      box-shadow: 0px 1px 2px rgba(60, 64, 67, 0.3), 0px 1px 3px 1px rgba(60, 64, 67, 0.15);\n",
              "      fill: #174EA6;\n",
              "    }\n",
              "\n",
              "    .colab-df-buttons div {\n",
              "      margin-bottom: 4px;\n",
              "    }\n",
              "\n",
              "    [theme=dark] .colab-df-convert {\n",
              "      background-color: #3B4455;\n",
              "      fill: #D2E3FC;\n",
              "    }\n",
              "\n",
              "    [theme=dark] .colab-df-convert:hover {\n",
              "      background-color: #434B5C;\n",
              "      box-shadow: 0px 1px 3px 1px rgba(0, 0, 0, 0.15);\n",
              "      filter: drop-shadow(0px 1px 2px rgba(0, 0, 0, 0.3));\n",
              "      fill: #FFFFFF;\n",
              "    }\n",
              "  </style>\n",
              "\n",
              "    <script>\n",
              "      const buttonEl =\n",
              "        document.querySelector('#df-9ccf4da3-1ebc-4928-a836-1beb09a85c0a button.colab-df-convert');\n",
              "      buttonEl.style.display =\n",
              "        google.colab.kernel.accessAllowed ? 'block' : 'none';\n",
              "\n",
              "      async function convertToInteractive(key) {\n",
              "        const element = document.querySelector('#df-9ccf4da3-1ebc-4928-a836-1beb09a85c0a');\n",
              "        const dataTable =\n",
              "          await google.colab.kernel.invokeFunction('convertToInteractive',\n",
              "                                                    [key], {});\n",
              "        if (!dataTable) return;\n",
              "\n",
              "        const docLinkHtml = 'Like what you see? Visit the ' +\n",
              "          '<a target=\"_blank\" href=https://colab.research.google.com/notebooks/data_table.ipynb>data table notebook</a>'\n",
              "          + ' to learn more about interactive tables.';\n",
              "        element.innerHTML = '';\n",
              "        dataTable['output_type'] = 'display_data';\n",
              "        await google.colab.output.renderOutput(dataTable, element);\n",
              "        const docLink = document.createElement('div');\n",
              "        docLink.innerHTML = docLinkHtml;\n",
              "        element.appendChild(docLink);\n",
              "      }\n",
              "    </script>\n",
              "  </div>\n",
              "\n",
              "\n",
              "<div id=\"df-62f6deb5-c200-4da5-8fa0-27384f981d37\">\n",
              "  <button class=\"colab-df-quickchart\" onclick=\"quickchart('df-62f6deb5-c200-4da5-8fa0-27384f981d37')\"\n",
              "            title=\"Suggest charts.\"\n",
              "            style=\"display:none;\">\n",
              "\n",
              "<svg xmlns=\"http://www.w3.org/2000/svg\" height=\"24px\"viewBox=\"0 0 24 24\"\n",
              "     width=\"24px\">\n",
              "    <g>\n",
              "        <path d=\"M19 3H5c-1.1 0-2 .9-2 2v14c0 1.1.9 2 2 2h14c1.1 0 2-.9 2-2V5c0-1.1-.9-2-2-2zM9 17H7v-7h2v7zm4 0h-2V7h2v10zm4 0h-2v-4h2v4z\"/>\n",
              "    </g>\n",
              "</svg>\n",
              "  </button>\n",
              "\n",
              "<style>\n",
              "  .colab-df-quickchart {\n",
              "    background-color: #E8F0FE;\n",
              "    border: none;\n",
              "    border-radius: 50%;\n",
              "    cursor: pointer;\n",
              "    display: none;\n",
              "    fill: #1967D2;\n",
              "    height: 32px;\n",
              "    padding: 0 0 0 0;\n",
              "    width: 32px;\n",
              "  }\n",
              "\n",
              "  .colab-df-quickchart:hover {\n",
              "    background-color: #E2EBFA;\n",
              "    box-shadow: 0px 1px 2px rgba(60, 64, 67, 0.3), 0px 1px 3px 1px rgba(60, 64, 67, 0.15);\n",
              "    fill: #174EA6;\n",
              "  }\n",
              "\n",
              "  [theme=dark] .colab-df-quickchart {\n",
              "    background-color: #3B4455;\n",
              "    fill: #D2E3FC;\n",
              "  }\n",
              "\n",
              "  [theme=dark] .colab-df-quickchart:hover {\n",
              "    background-color: #434B5C;\n",
              "    box-shadow: 0px 1px 3px 1px rgba(0, 0, 0, 0.15);\n",
              "    filter: drop-shadow(0px 1px 2px rgba(0, 0, 0, 0.3));\n",
              "    fill: #FFFFFF;\n",
              "  }\n",
              "</style>\n",
              "\n",
              "  <script>\n",
              "    async function quickchart(key) {\n",
              "      const charts = await google.colab.kernel.invokeFunction(\n",
              "          'suggestCharts', [key], {});\n",
              "    }\n",
              "    (() => {\n",
              "      let quickchartButtonEl =\n",
              "        document.querySelector('#df-62f6deb5-c200-4da5-8fa0-27384f981d37 button');\n",
              "      quickchartButtonEl.style.display =\n",
              "        google.colab.kernel.accessAllowed ? 'block' : 'none';\n",
              "    })();\n",
              "  </script>\n",
              "</div>\n",
              "    </div>\n",
              "  </div>\n"
            ]
          },
          "metadata": {},
          "execution_count": 5
        }
      ]
    },
    {
      "cell_type": "markdown",
      "source": [
        "# Plot Adj Closing Price Over Time"
      ],
      "metadata": {
        "id": "jSYADxXUxwXZ"
      }
    },
    {
      "cell_type": "code",
      "source": [
        "plt.plot(df.index, df['Adj Close'])\n",
        "plt.title('Adjusted Closing Price Over Time')\n",
        "plt.xlabel('Date')\n",
        "plt.ylabel('Adj Close')\n",
        "plt.show()"
      ],
      "metadata": {
        "colab": {
          "base_uri": "https://localhost:8080/",
          "height": 557
        },
        "id": "iB_wUpaTGv1C",
        "outputId": "1f29c58d-25ee-4b09-cdc2-8905088f249c"
      },
      "execution_count": null,
      "outputs": [
        {
          "output_type": "display_data",
          "data": {
            "text/plain": [
              "<Figure size 1000x600 with 1 Axes>"
            ],
            "image/png": "[encoded data removed]"
          },
          "metadata": {}
        }
      ]
    },
    {
      "cell_type": "markdown",
      "source": [
        "# Prepare Data"
      ],
      "metadata": {
        "id": "xnh6YLaBCyNS"
      }
    },
    {
      "cell_type": "code",
      "source": [
        "def prepare_df(df, window_size):\n",
        "  df = df.copy()\n",
        "\n",
        "  for i in range(1, window_size + 1):\n",
        "    df[f'Adj Close(t-{i})'] = df['Adj Close'].shift(i)\n",
        "\n",
        "  return df.dropna()"
      ],
      "metadata": {
        "id": "yynDLt5e3QtG"
      },
      "execution_count": null,
      "outputs": []
    },
    {
      "cell_type": "code",
      "source": [
        "window_size = 5\n",
        "dataset = prepare_df(df, window_size=window_size)\n",
        "X = dataset.iloc[:, 1:window_size+1].iloc[:, ::-1]\n",
        "y = dataset.iloc[:, window_size+1:]\n",
        "dataset = pd.concat([X, dataset.iloc[:, 0], y], axis=1)\n",
        "dataset.head()"
      ],
      "metadata": {
        "colab": {
          "base_uri": "https://localhost:8080/",
          "height": 237
        },
        "id": "-njHpePxOQLM",
        "outputId": "02ec442a-ac5a-4600-e527-72b87fdb63df"
      },
      "execution_count": null,
      "outputs": [
        {
          "output_type": "execute_result",
          "data": {
            "text/plain": [
              "            Adj Close(t-5)  Adj Close(t-4)  Adj Close(t-3)  Adj Close(t-2)  \\\n",
              "Date                                                                         \n",
              "2000-01-10       36.205612       34.982548       35.351414       34.167221   \n",
              "2000-01-11       34.982548       35.351414       34.167221       34.613728   \n",
              "2000-01-12       35.351414       34.167221       34.613728       34.866081   \n",
              "2000-01-13       34.167221       34.613728       34.866081       33.973083   \n",
              "2000-01-14       34.613728       34.866081       33.973083       32.866524   \n",
              "\n",
              "            Adj Close(t-1)  Adj Close  \n",
              "Date                                   \n",
              "2000-01-10       34.613728  34.866081  \n",
              "2000-01-11       34.866081  33.973083  \n",
              "2000-01-12       33.973083  32.866524  \n",
              "2000-01-13       32.866524  33.487743  \n",
              "2000-01-14       33.487743  34.866081  "
            ],
            "text/html": [
              "\n",
              "  <div id=\"df-b37d837f-115a-41c7-97f8-079fc2270bf9\" class=\"colab-df-container\">\n",
              "    <div>\n",
              "<style scoped>\n",
              "    .dataframe tbody tr th:only-of-type {\n",
              "        vertical-align: middle;\n",
              "    }\n",
              "\n",
              "    .dataframe tbody tr th {\n",
              "        vertical-align: top;\n",
              "    }\n",
              "\n",
              "    .dataframe thead th {\n",
              "        text-align: right;\n",
              "    }\n",
              "</style>\n",
              "<table border=\"1\" class=\"dataframe\">\n",
              "  <thead>\n",
              "    <tr style=\"text-align: right;\">\n",
              "      <th></th>\n",
              "      <th>Adj Close(t-5)</th>\n",
              "      <th>Adj Close(t-4)</th>\n",
              "      <th>Adj Close(t-3)</th>\n",
              "      <th>Adj Close(t-2)</th>\n",
              "      <th>Adj Close(t-1)</th>\n",
              "      <th>Adj Close</th>\n",
              "    </tr>\n",
              "    <tr>\n",
              "      <th>Date</th>\n",
              "      <th></th>\n",
              "      <th></th>\n",
              "      <th></th>\n",
              "      <th></th>\n",
              "      <th></th>\n",
              "      <th></th>\n",
              "    </tr>\n",
              "  </thead>\n",
              "  <tbody>\n",
              "    <tr>\n",
              "      <th>2000-01-10</th>\n",
              "      <td>36.205612</td>\n",
              "      <td>34.982548</td>\n",
              "      <td>35.351414</td>\n",
              "      <td>34.167221</td>\n",
              "      <td>34.613728</td>\n",
              "      <td>34.866081</td>\n",
              "    </tr>\n",
              "    <tr>\n",
              "      <th>2000-01-11</th>\n",
              "      <td>34.982548</td>\n",
              "      <td>35.351414</td>\n",
              "      <td>34.167221</td>\n",
              "      <td>34.613728</td>\n",
              "      <td>34.866081</td>\n",
              "      <td>33.973083</td>\n",
              "    </tr>\n",
              "    <tr>\n",
              "      <th>2000-01-12</th>\n",
              "      <td>35.351414</td>\n",
              "      <td>34.167221</td>\n",
              "      <td>34.613728</td>\n",
              "      <td>34.866081</td>\n",
              "      <td>33.973083</td>\n",
              "      <td>32.866524</td>\n",
              "    </tr>\n",
              "    <tr>\n",
              "      <th>2000-01-13</th>\n",
              "      <td>34.167221</td>\n",
              "      <td>34.613728</td>\n",
              "      <td>34.866081</td>\n",
              "      <td>33.973083</td>\n",
              "      <td>32.866524</td>\n",
              "      <td>33.487743</td>\n",
              "    </tr>\n",
              "    <tr>\n",
              "      <th>2000-01-14</th>\n",
              "      <td>34.613728</td>\n",
              "      <td>34.866081</td>\n",
              "      <td>33.973083</td>\n",
              "      <td>32.866524</td>\n",
              "      <td>33.487743</td>\n",
              "      <td>34.866081</td>\n",
              "    </tr>\n",
              "  </tbody>\n",
              "</table>\n",
              "</div>\n",
              "    <div class=\"colab-df-buttons\">\n",
              "\n",
              "  <div class=\"colab-df-container\">\n",
              "    <button class=\"colab-df-convert\" onclick=\"convertToInteractive('df-b37d837f-115a-41c7-97f8-079fc2270bf9')\"\n",
              "            title=\"Convert this dataframe to an interactive table.\"\n",
              "            style=\"display:none;\">\n",
              "\n",
              "  <svg xmlns=\"http://www.w3.org/2000/svg\" height=\"24px\" viewBox=\"0 -960 960 960\">\n",
              "    <path d=\"M120-120v-720h720v720H120Zm60-500h600v-160H180v160Zm220 220h160v-160H400v160Zm0 220h160v-160H400v160ZM180-400h160v-160H180v160Zm440 0h160v-160H620v160ZM180-180h160v-160H180v160Zm440 0h160v-160H620v160Z\"/>\n",
              "  </svg>\n",
              "    </button>\n",
              "\n",
              "  <style>\n",
              "    .colab-df-container {\n",
              "      display:flex;\n",
              "      gap: 12px;\n",
              "    }\n",
              "\n",
              "    .colab-df-convert {\n",
              "      background-color: #E8F0FE;\n",
              "      border: none;\n",
              "      border-radius: 50%;\n",
              "      cursor: pointer;\n",
              "      display: none;\n",
              "      fill: #1967D2;\n",
              "      height: 32px;\n",
              "      padding: 0 0 0 0;\n",
              "      width: 32px;\n",
              "    }\n",
              "\n",
              "    .colab-df-convert:hover {\n",
              "      background-color: #E2EBFA;\n",
              "      box-shadow: 0px 1px 2px rgba(60, 64, 67, 0.3), 0px 1px 3px 1px rgba(60, 64, 67, 0.15);\n",
              "      fill: #174EA6;\n",
              "    }\n",
              "\n",
              "    .colab-df-buttons div {\n",
              "      margin-bottom: 4px;\n",
              "    }\n",
              "\n",
              "    [theme=dark] .colab-df-convert {\n",
              "      background-color: #3B4455;\n",
              "      fill: #D2E3FC;\n",
              "    }\n",
              "\n",
              "    [theme=dark] .colab-df-convert:hover {\n",
              "      background-color: #434B5C;\n",
              "      box-shadow: 0px 1px 3px 1px rgba(0, 0, 0, 0.15);\n",
              "      filter: drop-shadow(0px 1px 2px rgba(0, 0, 0, 0.3));\n",
              "      fill: #FFFFFF;\n",
              "    }\n",
              "  </style>\n",
              "\n",
              "    <script>\n",
              "      const buttonEl =\n",
              "        document.querySelector('#df-b37d837f-115a-41c7-97f8-079fc2270bf9 button.colab-df-convert');\n",
              "      buttonEl.style.display =\n",
              "        google.colab.kernel.accessAllowed ? 'block' : 'none';\n",
              "\n",
              "      async function convertToInteractive(key) {\n",
              "        const element = document.querySelector('#df-b37d837f-115a-41c7-97f8-079fc2270bf9');\n",
              "        const dataTable =\n",
              "          await google.colab.kernel.invokeFunction('convertToInteractive',\n",
              "                                                    [key], {});\n",
              "        if (!dataTable) return;\n",
              "\n",
              "        const docLinkHtml = 'Like what you see? Visit the ' +\n",
              "          '<a target=\"_blank\" href=https://colab.research.google.com/notebooks/data_table.ipynb>data table notebook</a>'\n",
              "          + ' to learn more about interactive tables.';\n",
              "        element.innerHTML = '';\n",
              "        dataTable['output_type'] = 'display_data';\n",
              "        await google.colab.output.renderOutput(dataTable, element);\n",
              "        const docLink = document.createElement('div');\n",
              "        docLink.innerHTML = docLinkHtml;\n",
              "        element.appendChild(docLink);\n",
              "      }\n",
              "    </script>\n",
              "  </div>\n",
              "\n",
              "\n",
              "<div id=\"df-43066d32-06db-45bb-a90f-40703d30b495\">\n",
              "  <button class=\"colab-df-quickchart\" onclick=\"quickchart('df-43066d32-06db-45bb-a90f-40703d30b495')\"\n",
              "            title=\"Suggest charts.\"\n",
              "            style=\"display:none;\">\n",
              "\n",
              "<svg xmlns=\"http://www.w3.org/2000/svg\" height=\"24px\"viewBox=\"0 0 24 24\"\n",
              "     width=\"24px\">\n",
              "    <g>\n",
              "        <path d=\"M19 3H5c-1.1 0-2 .9-2 2v14c0 1.1.9 2 2 2h14c1.1 0 2-.9 2-2V5c0-1.1-.9-2-2-2zM9 17H7v-7h2v7zm4 0h-2V7h2v10zm4 0h-2v-4h2v4z\"/>\n",
              "    </g>\n",
              "</svg>\n",
              "  </button>\n",
              "\n",
              "<style>\n",
              "  .colab-df-quickchart {\n",
              "    background-color: #E8F0FE;\n",
              "    border: none;\n",
              "    border-radius: 50%;\n",
              "    cursor: pointer;\n",
              "    display: none;\n",
              "    fill: #1967D2;\n",
              "    height: 32px;\n",
              "    padding: 0 0 0 0;\n",
              "    width: 32px;\n",
              "  }\n",
              "\n",
              "  .colab-df-quickchart:hover {\n",
              "    background-color: #E2EBFA;\n",
              "    box-shadow: 0px 1px 2px rgba(60, 64, 67, 0.3), 0px 1px 3px 1px rgba(60, 64, 67, 0.15);\n",
              "    fill: #174EA6;\n",
              "  }\n",
              "\n",
              "  [theme=dark] .colab-df-quickchart {\n",
              "    background-color: #3B4455;\n",
              "    fill: #D2E3FC;\n",
              "  }\n",
              "\n",
              "  [theme=dark] .colab-df-quickchart:hover {\n",
              "    background-color: #434B5C;\n",
              "    box-shadow: 0px 1px 3px 1px rgba(0, 0, 0, 0.15);\n",
              "    filter: drop-shadow(0px 1px 2px rgba(0, 0, 0, 0.3));\n",
              "    fill: #FFFFFF;\n",
              "  }\n",
              "</style>\n",
              "\n",
              "  <script>\n",
              "    async function quickchart(key) {\n",
              "      const charts = await google.colab.kernel.invokeFunction(\n",
              "          'suggestCharts', [key], {});\n",
              "    }\n",
              "    (() => {\n",
              "      let quickchartButtonEl =\n",
              "        document.querySelector('#df-43066d32-06db-45bb-a90f-40703d30b495 button');\n",
              "      quickchartButtonEl.style.display =\n",
              "        google.colab.kernel.accessAllowed ? 'block' : 'none';\n",
              "    })();\n",
              "  </script>\n",
              "</div>\n",
              "    </div>\n",
              "  </div>\n"
            ]
          },
          "metadata": {},
          "execution_count": 8
        }
      ]
    },
    {
      "cell_type": "code",
      "source": [
        "train, val = train_test_split(dataset, test_size=0.1, shuffle=False) # do not shuffle"
      ],
      "metadata": {
        "id": "MmJJ_VRrfbBo"
      },
      "execution_count": null,
      "outputs": []
    },
    {
      "cell_type": "code",
      "source": [
        "scaler = MinMaxScaler().fit(train) # fit scaler"
      ],
      "metadata": {
        "id": "odDcL69ewyZc"
      },
      "execution_count": null,
      "outputs": []
    },
    {
      "cell_type": "markdown",
      "source": [
        "### Create a PyTorch Dataset"
      ],
      "metadata": {
        "id": "e8tCINprZe_d"
      }
    },
    {
      "cell_type": "code",
      "source": [
        "class MicrosoftDataset(Dataset):\n",
        "  def __init__(self, dataset, scaler):\n",
        "    dataset = scaler.transform(dataset)\n",
        "    X, y = dataset[:, :window_size], dataset[:, window_size:]\n",
        "    self.X = torch.tensor(np.expand_dims(X, axis=-1)).float()\n",
        "    self.y = torch.tensor(y).float()\n",
        "\n",
        "  def __len__(self):\n",
        "    return len(self.y)\n",
        "\n",
        "  def __getitem__(self, idx):\n",
        "    return self.X[idx], self.y[idx]"
      ],
      "metadata": {
        "id": "e52dkUBihJWf"
      },
      "execution_count": null,
      "outputs": []
    },
    {
      "cell_type": "code",
      "source": [
        "# load in datasets\n",
        "train_ds = MicrosoftDataset(train, scaler)\n",
        "val_ds = MicrosoftDataset(val, scaler)\n",
        "\n",
        "# batch into dataloaders\n",
        "train_loader = DataLoader(train_ds, batch_size=32, shuffle=True)\n",
        "val_loader = DataLoader(val_ds, batch_size=32, shuffle=False)"
      ],
      "metadata": {
        "id": "Pa1bnofO1Whu"
      },
      "execution_count": null,
      "outputs": []
    },
    {
      "cell_type": "code",
      "source": [
        "print(f'Train Loader Size: {len(train_loader)} \\nValid Loader Size: {len(val_loader)}')"
      ],
      "metadata": {
        "colab": {
          "base_uri": "https://localhost:8080/"
        },
        "id": "v3qEqYE5-COx",
        "outputId": "04356bd8-3965-47a0-8eca-8500f4a7b9f4"
      },
      "execution_count": null,
      "outputs": [
        {
          "output_type": "stream",
          "name": "stdout",
          "text": [
            "Train Loader Size: 165 \n",
            "Valid Loader Size: 19\n"
          ]
        }
      ]
    },
    {
      "cell_type": "code",
      "source": [
        "ex_in, ex_out = next(iter(train_loader))\n",
        "print(ex_in.shape, ex_out.shape)"
      ],
      "metadata": {
        "colab": {
          "base_uri": "https://localhost:8080/"
        },
        "id": "gSCeSEzY2IWR",
        "outputId": "599dacfc-4e60-4217-bd33-8f573ef48087"
      },
      "execution_count": null,
      "outputs": [
        {
          "output_type": "stream",
          "name": "stdout",
          "text": [
            "torch.Size([32, 5, 1]) torch.Size([32, 1])\n"
          ]
        }
      ]
    },
    {
      "cell_type": "markdown",
      "source": [
        "# Define Model"
      ],
      "metadata": {
        "id": "_5quMZmKDd7L"
      }
    },
    {
      "cell_type": "code",
      "source": [
        "INPUT_SIZE = 1\n",
        "HIDDEN_SIZE = 64\n",
        "OUTPUT_SIZE = 1\n",
        "NUM_LAYERS = 2\n",
        "DEVICE = torch.device(\"cuda:0\" if torch.cuda.is_available() else \"cpu\")"
      ],
      "metadata": {
        "id": "TM2JqCMARYKo"
      },
      "execution_count": null,
      "outputs": []
    },
    {
      "cell_type": "code",
      "source": [
        "class LSTM(nn.Module):\n",
        "  def __init__(self, input_size, hidden_size, output_size, num_layers):\n",
        "    super(LSTM, self).__init__()\n",
        "    self.input_size = input_size\n",
        "    self.hidden_size = hidden_size\n",
        "    self.output_size = output_size\n",
        "    self.num_layers = num_layers\n",
        "    self.lstm = nn.LSTM(input_size, hidden_size, num_layers, batch_first=True, bidirectional=True)\n",
        "    self.fc = nn.Linear(hidden_size*2, output_size)\n",
        "\n",
        "  def forward(self, x):\n",
        "    h0 = torch.zeros(self.num_layers*2, x.size(0), self.hidden_size).to(DEVICE)\n",
        "    c0 = torch.zeros(self.num_layers*2, x.size(0), self.hidden_size).to(DEVICE)\n",
        "    out, _ = self.lstm(x, (h0, c0))\n",
        "    out = self.fc(out[:, -1, :])\n",
        "    return out"
      ],
      "metadata": {
        "id": "PG29j1C0HSPv"
      },
      "execution_count": null,
      "outputs": []
    },
    {
      "cell_type": "markdown",
      "source": [
        "# Create Early Stopper"
      ],
      "metadata": {
        "id": "R9h7To4dpDUU"
      }
    },
    {
      "cell_type": "code",
      "source": [
        "class EarlyStopping:\n",
        "  def __init__(self, patience=5, min_delta=0, restore_best_weights=True):\n",
        "    self.patience = patience\n",
        "    self.min_delta = min_delta\n",
        "    self.restore_best_weights = restore_best_weights\n",
        "    self.best_model = None\n",
        "    self.best_loss = None\n",
        "    self.counter = 0\n",
        "    self.status = \"\"\n",
        "\n",
        "  def __call__(self, model, val_loss):\n",
        "    if self.best_loss == None:\n",
        "      self.best_loss = val_loss\n",
        "      self.best_model = copy.deepcopy(model)\n",
        "    elif self.best_loss - val_loss > self.min_delta:\n",
        "      self.best_loss = val_loss\n",
        "      self.counter = 0\n",
        "      self.best_model.load_state_dict(model.state_dict())\n",
        "    elif self.best_loss - val_loss < self.min_delta:\n",
        "      self.counter += 1\n",
        "      if self.counter >= self.patience:\n",
        "        self.status = f\"Stopped on {self.counter}\"\n",
        "        if self.restore_best_weights:\n",
        "          model.load_state_dict(self.best_model.state_dict())\n",
        "        return True\n",
        "    self.status = f\"{self.counter}/{self.patience}\"\n",
        "    return False"
      ],
      "metadata": {
        "id": "3iTrb8zdTaVh"
      },
      "execution_count": null,
      "outputs": []
    },
    {
      "cell_type": "markdown",
      "source": [
        "# Create Trainer"
      ],
      "metadata": {
        "id": "uAq4zlzPpFxO"
      }
    },
    {
      "cell_type": "code",
      "source": [
        "class Trainer:\n",
        "  def __init__(self,\n",
        "               train_loader,\n",
        "               val_loader,\n",
        "               criterion,\n",
        "               optimizer,\n",
        "               model,\n",
        "               device,\n",
        "               max_epochs):\n",
        "    self.train_loader = train_loader\n",
        "    self.val_loader = val_loader\n",
        "    self.criterion = criterion\n",
        "    self.optimizer = optimizer\n",
        "    self.model = model\n",
        "    self.device = device\n",
        "    self.early_stopper = EarlyStopping(patience=10)\n",
        "    self.max_epochs = max_epochs\n",
        "    self.history = {}\n",
        "    self.output_dir = '/content/drive/MyDrive/Models/TimeSeriesLSTM'\n",
        "    self.scheduler = optim.lr_scheduler.ReduceLROnPlateau(optimizer, mode='min', factor=0.1, patience=5, verbose=True)\n",
        "\n",
        "\n",
        "  def _train_epoch(self):\n",
        "    self.model.train()\n",
        "    running_loss = 0.00\n",
        "    for batch_idx, (input, truth) in enumerate(self.train_loader):\n",
        "      input, truth = input.to(self.device), truth.to(self.device)\n",
        "      self.optimizer.zero_grad()\n",
        "      pred = self.model(input)\n",
        "      loss = self.criterion(pred, truth)\n",
        "      loss.backward()\n",
        "      self.optimizer.step()\n",
        "      running_loss+=loss.item()\n",
        "\n",
        "    return running_loss/len(self.train_loader)\n",
        "\n",
        "  @torch.no_grad()\n",
        "  def _eval_epoch(self):\n",
        "    self.model.eval()\n",
        "    running_loss = 0.00\n",
        "    for batch_idx, (input, truth) in enumerate(self.val_loader):\n",
        "      input, truth = input.to(self.device), truth.to(self.device)\n",
        "      pred = self.model(input)\n",
        "      loss = self.criterion(pred, truth)\n",
        "      running_loss+=loss.item()\n",
        "    return running_loss/len(self.val_loader)\n",
        "\n",
        "  def train(self):\n",
        "    best_val_loss = np.inf\n",
        "    best_epoch = 0\n",
        "\n",
        "    train_losses, val_losses = [], []\n",
        "    for epoch in range(self.max_epochs):\n",
        "      print(f'Epoch {epoch+1}/{self.max_epochs}:')\n",
        "\n",
        "      tloss = self._train_epoch()\n",
        "      train_losses.append(tloss)\n",
        "      print(f'Train loss: {tloss:.4f}')\n",
        "\n",
        "      vloss = self._eval_epoch()\n",
        "      val_losses.append(vloss)\n",
        "      print(f'Val loss: {vloss:.4f}')\n",
        "\n",
        "      self.scheduler.step(vloss)\n",
        "\n",
        "      if vloss < best_val_loss:\n",
        "        best_val_loss = vloss\n",
        "        best_epoch = epoch + 1\n",
        "\n",
        "      if self.early_stopper(self.model, vloss):\n",
        "        print(f'best epoch: {best_epoch}')\n",
        "        break\n",
        "\n",
        "      print()\n",
        "\n",
        "    print('Training Finished')\n",
        "    torch.save(self.model, self.output_dir)\n",
        "\n",
        "    self.history = {'train': train_losses, 'val': val_losses}\n",
        "\n",
        "  def evaluate(self):\n",
        "    vloss = self._eval_epoch()\n",
        "    return np.round(vloss, 4)"
      ],
      "metadata": {
        "id": "7C6pJJt3Smxf"
      },
      "execution_count": null,
      "outputs": []
    },
    {
      "cell_type": "markdown",
      "source": [
        "# Train Model"
      ],
      "metadata": {
        "id": "i7bpaqZLpIJw"
      }
    },
    {
      "cell_type": "code",
      "source": [
        "model = LSTM(\n",
        "    INPUT_SIZE,\n",
        "    HIDDEN_SIZE,\n",
        "    OUTPUT_SIZE,\n",
        "    NUM_LAYERS\n",
        ").to(DEVICE)\n",
        "criterion = nn.MSELoss()\n",
        "optimizer = torch.optim.AdamW(model.parameters(), lr=2e-6, weight_decay=0.01)"
      ],
      "metadata": {
        "id": "YymqUX0hR9AP"
      },
      "execution_count": null,
      "outputs": []
    },
    {
      "cell_type": "code",
      "source": [
        "model(ex_in).shape"
      ],
      "metadata": {
        "colab": {
          "base_uri": "https://localhost:8080/"
        },
        "id": "6dwY5uVjuxGw",
        "outputId": "c6d3fad6-f852-4f89-9d66-ea01b1bdd791"
      },
      "execution_count": null,
      "outputs": [
        {
          "output_type": "execute_result",
          "data": {
            "text/plain": [
              "torch.Size([32, 1])"
            ]
          },
          "metadata": {},
          "execution_count": 20
        }
      ]
    },
    {
      "cell_type": "code",
      "source": [
        "trainer = Trainer(\n",
        "    train_loader=train_loader,\n",
        "    val_loader=val_loader,\n",
        "    criterion=criterion,\n",
        "    optimizer=optimizer,\n",
        "    model=model,\n",
        "    device=DEVICE,\n",
        "    max_epochs=250\n",
        ")\n",
        "\n",
        "trainer.train()"
      ],
      "metadata": {
        "colab": {
          "base_uri": "https://localhost:8080/"
        },
        "id": "oCsYKSuMEXDF",
        "outputId": "d490cd6c-871a-44a7-c04e-3a7a6db26926"
      },
      "execution_count": null,
      "outputs": [
        {
          "output_type": "stream",
          "name": "stdout",
          "text": [
            "Epoch 1/250:\n",
            "Train loss: 0.0411\n",
            "Val loss: 1.1715\n",
            "\n",
            "Epoch 2/250:\n",
            "Train loss: 0.0406\n",
            "Val loss: 1.1570\n",
            "\n",
            "Epoch 3/250:\n",
            "Train loss: 0.0402\n",
            "Val loss: 1.1435\n",
            "\n",
            "Epoch 4/250:\n",
            "Train loss: 0.0399\n",
            "Val loss: 1.1315\n",
            "\n",
            "Epoch 5/250:\n",
            "Train loss: 0.0395\n",
            "Val loss: 1.1194\n",
            "\n",
            "Epoch 6/250:\n",
            "Train loss: 0.0393\n",
            "Val loss: 1.1089\n",
            "\n",
            "Epoch 7/250:\n",
            "Train loss: 0.0390\n",
            "Val loss: 1.0986\n",
            "\n",
            "Epoch 8/250:\n",
            "Train loss: 0.0387\n",
            "Val loss: 1.0884\n",
            "\n",
            "Epoch 9/250:\n",
            "Train loss: 0.0385\n",
            "Val loss: 1.0788\n",
            "\n",
            "Epoch 10/250:\n",
            "Train loss: 0.0382\n",
            "Val loss: 1.0698\n",
            "\n",
            "Epoch 11/250:\n",
            "Train loss: 0.0380\n",
            "Val loss: 1.0609\n",
            "\n",
            "Epoch 12/250:\n",
            "Train loss: 0.0377\n",
            "Val loss: 1.0522\n",
            "\n",
            "Epoch 13/250:\n",
            "Train loss: 0.0374\n",
            "Val loss: 1.0434\n",
            "\n",
            "Epoch 14/250:\n",
            "Train loss: 0.0372\n",
            "Val loss: 1.0346\n",
            "\n",
            "Epoch 15/250:\n",
            "Train loss: 0.0369\n",
            "Val loss: 1.0262\n",
            "\n",
            "Epoch 16/250:\n",
            "Train loss: 0.0366\n",
            "Val loss: 1.0169\n",
            "\n",
            "Epoch 17/250:\n",
            "Train loss: 0.0363\n",
            "Val loss: 1.0085\n",
            "\n",
            "Epoch 18/250:\n",
            "Train loss: 0.0361\n",
            "Val loss: 0.9996\n",
            "\n",
            "Epoch 19/250:\n",
            "Train loss: 0.0358\n",
            "Val loss: 0.9904\n",
            "\n",
            "Epoch 20/250:\n",
            "Train loss: 0.0355\n",
            "Val loss: 0.9816\n",
            "\n",
            "Epoch 21/250:\n",
            "Train loss: 0.0352\n",
            "Val loss: 0.9720\n",
            "\n",
            "Epoch 22/250:\n",
            "Train loss: 0.0349\n",
            "Val loss: 0.9621\n",
            "\n",
            "Epoch 23/250:\n",
            "Train loss: 0.0345\n",
            "Val loss: 0.9522\n",
            "\n",
            "Epoch 24/250:\n",
            "Train loss: 0.0342\n",
            "Val loss: 0.9422\n",
            "\n",
            "Epoch 25/250:\n",
            "Train loss: 0.0338\n",
            "Val loss: 0.9314\n",
            "\n",
            "Epoch 26/250:\n",
            "Train loss: 0.0334\n",
            "Val loss: 0.9207\n",
            "\n",
            "Epoch 27/250:\n",
            "Train loss: 0.0331\n",
            "Val loss: 0.9088\n",
            "\n",
            "Epoch 28/250:\n",
            "Train loss: 0.0327\n",
            "Val loss: 0.8977\n",
            "\n",
            "Epoch 29/250:\n",
            "Train loss: 0.0323\n",
            "Val loss: 0.8851\n",
            "\n",
            "Epoch 30/250:\n",
            "Train loss: 0.0319\n",
            "Val loss: 0.8728\n",
            "\n",
            "Epoch 31/250:\n",
            "Train loss: 0.0314\n",
            "Val loss: 0.8602\n",
            "\n",
            "Epoch 32/250:\n",
            "Train loss: 0.0309\n",
            "Val loss: 0.8466\n",
            "\n",
            "Epoch 33/250:\n",
            "Train loss: 0.0305\n",
            "Val loss: 0.8327\n",
            "\n",
            "Epoch 34/250:\n",
            "Train loss: 0.0300\n",
            "Val loss: 0.8179\n",
            "\n",
            "Epoch 35/250:\n",
            "Train loss: 0.0295\n",
            "Val loss: 0.8029\n",
            "\n",
            "Epoch 36/250:\n",
            "Train loss: 0.0290\n",
            "Val loss: 0.7880\n",
            "\n",
            "Epoch 37/250:\n",
            "Train loss: 0.0284\n",
            "Val loss: 0.7720\n",
            "\n",
            "Epoch 38/250:\n",
            "Train loss: 0.0279\n",
            "Val loss: 0.7553\n",
            "\n",
            "Epoch 39/250:\n",
            "Train loss: 0.0273\n",
            "Val loss: 0.7384\n",
            "\n",
            "Epoch 40/250:\n",
            "Train loss: 0.0267\n",
            "Val loss: 0.7205\n",
            "\n",
            "Epoch 41/250:\n",
            "Train loss: 0.0261\n",
            "Val loss: 0.7021\n",
            "\n",
            "Epoch 42/250:\n",
            "Train loss: 0.0255\n",
            "Val loss: 0.6831\n",
            "\n",
            "Epoch 43/250:\n",
            "Train loss: 0.0248\n",
            "Val loss: 0.6637\n",
            "\n",
            "Epoch 44/250:\n",
            "Train loss: 0.0242\n",
            "Val loss: 0.6438\n",
            "\n",
            "Epoch 45/250:\n",
            "Train loss: 0.0235\n",
            "Val loss: 0.6220\n",
            "\n",
            "Epoch 46/250:\n",
            "Train loss: 0.0228\n",
            "Val loss: 0.6014\n",
            "\n",
            "Epoch 47/250:\n",
            "Train loss: 0.0220\n",
            "Val loss: 0.5789\n",
            "\n",
            "Epoch 48/250:\n",
            "Train loss: 0.0213\n",
            "Val loss: 0.5560\n",
            "\n",
            "Epoch 49/250:\n",
            "Train loss: 0.0205\n",
            "Val loss: 0.5323\n",
            "\n",
            "Epoch 50/250:\n",
            "Train loss: 0.0197\n",
            "Val loss: 0.5089\n",
            "\n",
            "Epoch 51/250:\n",
            "Train loss: 0.0189\n",
            "Val loss: 0.4856\n",
            "\n",
            "Epoch 52/250:\n",
            "Train loss: 0.0180\n",
            "Val loss: 0.4602\n",
            "\n",
            "Epoch 53/250:\n",
            "Train loss: 0.0172\n",
            "Val loss: 0.4344\n",
            "\n",
            "Epoch 54/250:\n",
            "Train loss: 0.0163\n",
            "Val loss: 0.4088\n",
            "\n",
            "Epoch 55/250:\n",
            "Train loss: 0.0154\n",
            "Val loss: 0.3832\n",
            "\n",
            "Epoch 56/250:\n",
            "Train loss: 0.0145\n",
            "Val loss: 0.3559\n",
            "\n",
            "Epoch 57/250:\n",
            "Train loss: 0.0136\n",
            "Val loss: 0.3304\n",
            "\n",
            "Epoch 58/250:\n",
            "Train loss: 0.0127\n",
            "Val loss: 0.3034\n",
            "\n",
            "Epoch 59/250:\n",
            "Train loss: 0.0118\n",
            "Val loss: 0.2779\n",
            "\n",
            "Epoch 60/250:\n",
            "Train loss: 0.0109\n",
            "Val loss: 0.2514\n",
            "\n",
            "Epoch 61/250:\n",
            "Train loss: 0.0100\n",
            "Val loss: 0.2254\n",
            "\n",
            "Epoch 62/250:\n",
            "Train loss: 0.0091\n",
            "Val loss: 0.2016\n",
            "\n",
            "Epoch 63/250:\n",
            "Train loss: 0.0082\n",
            "Val loss: 0.1774\n",
            "\n",
            "Epoch 64/250:\n",
            "Train loss: 0.0074\n",
            "Val loss: 0.1539\n",
            "\n",
            "Epoch 65/250:\n",
            "Train loss: 0.0066\n",
            "Val loss: 0.1326\n",
            "\n",
            "Epoch 66/250:\n",
            "Train loss: 0.0058\n",
            "Val loss: 0.1121\n",
            "\n",
            "Epoch 67/250:\n",
            "Train loss: 0.0050\n",
            "Val loss: 0.0929\n",
            "\n",
            "Epoch 68/250:\n",
            "Train loss: 0.0043\n",
            "Val loss: 0.0755\n",
            "\n",
            "Epoch 69/250:\n",
            "Train loss: 0.0036\n",
            "Val loss: 0.0598\n",
            "\n",
            "Epoch 70/250:\n",
            "Train loss: 0.0030\n",
            "Val loss: 0.0459\n",
            "\n",
            "Epoch 71/250:\n",
            "Train loss: 0.0025\n",
            "Val loss: 0.0338\n",
            "\n",
            "Epoch 72/250:\n",
            "Train loss: 0.0020\n",
            "Val loss: 0.0243\n",
            "\n",
            "Epoch 73/250:\n",
            "Train loss: 0.0016\n",
            "Val loss: 0.0165\n",
            "\n",
            "Epoch 74/250:\n",
            "Train loss: 0.0012\n",
            "Val loss: 0.0106\n",
            "\n",
            "Epoch 75/250:\n",
            "Train loss: 0.0009\n",
            "Val loss: 0.0062\n",
            "\n",
            "Epoch 76/250:\n",
            "Train loss: 0.0007\n",
            "Val loss: 0.0034\n",
            "\n",
            "Epoch 77/250:\n",
            "Train loss: 0.0005\n",
            "Val loss: 0.0018\n",
            "\n",
            "Epoch 78/250:\n",
            "Train loss: 0.0004\n",
            "Val loss: 0.0011\n",
            "\n",
            "Epoch 79/250:\n",
            "Train loss: 0.0003\n",
            "Val loss: 0.0010\n",
            "\n",
            "Epoch 80/250:\n",
            "Train loss: 0.0002\n",
            "Val loss: 0.0014\n",
            "\n",
            "Epoch 81/250:\n",
            "Train loss: 0.0002\n",
            "Val loss: 0.0019\n",
            "\n",
            "Epoch 82/250:\n",
            "Train loss: 0.0002\n",
            "Val loss: 0.0024\n",
            "\n",
            "Epoch 83/250:\n",
            "Train loss: 0.0002\n",
            "Val loss: 0.0028\n",
            "\n",
            "Epoch 84/250:\n",
            "Train loss: 0.0002\n",
            "Val loss: 0.0031\n",
            "\n",
            "Epoch 85/250:\n",
            "Train loss: 0.0002\n",
            "Val loss: 0.0033\n",
            "Epoch 00085: reducing learning rate of group 0 to 2.0000e-07.\n",
            "\n",
            "Epoch 86/250:\n",
            "Train loss: 0.0001\n",
            "Val loss: 0.0033\n",
            "\n",
            "Epoch 87/250:\n",
            "Train loss: 0.0001\n",
            "Val loss: 0.0033\n",
            "\n",
            "Epoch 88/250:\n",
            "Train loss: 0.0001\n",
            "Val loss: 0.0033\n",
            "\n",
            "Epoch 89/250:\n",
            "Train loss: 0.0001\n",
            "Val loss: 0.0033\n",
            "best epoch: 79\n",
            "Training Finished\n"
          ]
        }
      ]
    },
    {
      "cell_type": "code",
      "source": [
        "trainer.evaluate()"
      ],
      "metadata": {
        "colab": {
          "base_uri": "https://localhost:8080/"
        },
        "id": "TwmH42XtnlDo",
        "outputId": "915be10d-62aa-4d51-9621-8694cc955896"
      },
      "execution_count": null,
      "outputs": [
        {
          "output_type": "execute_result",
          "data": {
            "text/plain": [
              "0.001"
            ]
          },
          "metadata": {},
          "execution_count": 22
        }
      ]
    },
    {
      "cell_type": "code",
      "source": [
        "lstm_model = torch.load('/content/drive/MyDrive/Models/TimeSeriesLSTM').to(DEVICE)"
      ],
      "metadata": {
        "id": "OKBbqOhRIQnX"
      },
      "execution_count": null,
      "outputs": []
    },
    {
      "cell_type": "markdown",
      "source": [
        "# Visualize Forecast on Testing Data\n",
        "\n",
        "We will create a class to visualize and evaluate predictions."
      ],
      "metadata": {
        "id": "fGlIphYYpTrH"
      }
    },
    {
      "cell_type": "code",
      "source": [
        "class TimeSeriesForecast:\n",
        "  def __init__(self, lstm_model, device, scaler, val_data):\n",
        "    self.model = lstm_model\n",
        "    self.device = device\n",
        "    self.scaler = scaler\n",
        "    self.val_data = val_data\n",
        "\n",
        "  @torch.no_grad()\n",
        "  def _predict(self, idx):\n",
        "    self.model.eval()\n",
        "    X, y = self.val_data.__getitem__(idx)\n",
        "    X = X.unsqueeze(0).to(self.device)\n",
        "    preds = self.model(X)\n",
        "    return X.flatten(), y, preds.flatten(),\n",
        "\n",
        "  def _get_unormalized(self, idx):\n",
        "    X, truth, preds = self._predict(idx)\n",
        "    truth_row = torch.concat([X, truth])\n",
        "    truth_row = truth_row.detach().numpy().reshape(1, -1)\n",
        "    preds_row = torch.concat([X, preds])\n",
        "    preds_row = preds_row.detach().numpy().reshape(1, -1)\n",
        "    return self.scaler.inverse_transform(truth_row), self.scaler.inverse_transform(preds_row)\n",
        "\n",
        "  def get_predictions(self):\n",
        "    truth, preds = [], []\n",
        "    for i, (input, output) in enumerate(self.val_data):\n",
        "      truth_row, preds_row = self._get_unormalized(i)\n",
        "      truth.extend(truth_row.flatten()[window_size:])\n",
        "      preds.extend(preds_row.flatten()[window_size:])\n",
        "\n",
        "    return truth, preds\n",
        "\n",
        "  def plot(self):\n",
        "    truth, preds = self.get_predictions()\n",
        "    plt.plot(truth, label='Adj Close')\n",
        "    plt.plot(preds, label='Pred Adj Close')\n",
        "    plt.legend()\n",
        "    plt.title('Microsoft Adjusted Closing Price Forecast')\n",
        "    plt.xlabel('Day')\n",
        "    plt.ylabel('Adj Close')\n",
        "    plt.show()\n",
        "\n",
        "  def rmse(self):\n",
        "    truth, preds = self.get_predictions()\n",
        "    mse = mean_squared_error(truth, preds)\n",
        "    return np.sqrt(mse)"
      ],
      "metadata": {
        "id": "X6-aN_XOEhqE"
      },
      "execution_count": null,
      "outputs": []
    },
    {
      "cell_type": "code",
      "source": [
        "ts = TimeSeriesForecast(lstm_model, DEVICE, scaler, val_ds)"
      ],
      "metadata": {
        "id": "ksm8IV1TFr5r"
      },
      "execution_count": null,
      "outputs": []
    },
    {
      "cell_type": "markdown",
      "source": [
        "### Plot Forecast"
      ],
      "metadata": {
        "id": "2aDiAKKKCqsp"
      }
    },
    {
      "cell_type": "code",
      "source": [
        "ts.plot()"
      ],
      "metadata": {
        "id": "NG28npvQBQQq",
        "outputId": "86aacad8-1dc4-4dcf-c3d0-eba5dfc13a80",
        "colab": {
          "base_uri": "https://localhost:8080/",
          "height": 557
        }
      },
      "execution_count": null,
      "outputs": [
        {
          "output_type": "display_data",
          "data": {
            "text/plain": [
              "<Figure size 1000x600 with 1 Axes>"
            ],
            "image/png": "[encoded data removed]"
          },
          "metadata": {}
        }
      ]
    },
    {
      "cell_type": "markdown",
      "source": [
        "### Print RMSE"
      ],
      "metadata": {
        "id": "wAQ3X4PqCv1e"
      }
    },
    {
      "cell_type": "code",
      "source": [
        "print(f'Validation Root Mean Squared Error: {ts.rmse():.4f}')"
      ],
      "metadata": {
        "id": "86DZ7Av2DmAG",
        "outputId": "efd0a4c5-b6c6-4eda-9fab-93acfce7899b",
        "colab": {
          "base_uri": "https://localhost:8080/"
        }
      },
      "execution_count": null,
      "outputs": [
        {
          "output_type": "stream",
          "name": "stdout",
          "text": [
            "Validation Root Mean Squared Error: 6.8416\n"
          ]
        }
      ]
    },
    {
      "cell_type": "markdown",
      "source": [
        "This means that for every prediction step, the model on average is $6.84 off the actual adjusted closing price."
      ],
      "metadata": {
        "id": "2q3n5XZxU714"
      }
    }
  ]
}