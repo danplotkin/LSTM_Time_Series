{
  "nbformat": 4,
  "nbformat_minor": 0,
  "metadata": {
    "colab": {
      "provenance": [],
      "include_colab_link": true
    },
    "kernelspec": {
      "name": "python3",
      "display_name": "Python 3"
    },
    "language_info": {
      "name": "python"
    },
    "gpuClass": "standard"
  },
  "cells": [
    {
      "cell_type": "markdown",
      "metadata": {
        "id": "view-in-github",
        "colab_type": "text"
      },
      "source": [
        "<a href=\"https://colab.research.google.com/github/danplotkin/LSTM_Time_Series/blob/main/TimeSeriesLSTM.ipynb\" target=\"_parent\"><img src=\"https://colab.research.google.com/assets/colab-badge.svg\" alt=\"Open In Colab\"/></a>"
      ]
    },
    {
      "cell_type": "markdown",
      "source": [
        "# Import Libraries"
      ],
      "metadata": {
        "id": "Dq170vW5qaLt"
      }
    },
    {
      "cell_type": "code",
      "source": [
        "import os\n",
        "import pandas as pd\n",
        "import numpy as np\n",
        "import yfinance as yf\n",
        "from sklearn.preprocessing import MinMaxScaler\n",
        "from sklearn.model_selection import train_test_split\n",
        "from google.colab import drive\n",
        "import matplotlib.pyplot as plt\n",
        "import io\n",
        "import copy\n",
        "from sklearn.metrics import mean_squared_error\n",
        "drive.mount('/content/drive')\n",
        "\n",
        "import torch\n",
        "import torch.nn as nn\n",
        "import torch.optim as optim\n",
        "from torch.utils.data import DataLoader, Dataset\n",
        "\n",
        "plt.style.use('seaborn-v0_8-darkgrid')\n",
        "plt.rcParams['figure.figsize'] = (10, 6)"
      ],
      "metadata": {
        "id": "-AEb8la2qrkm",
        "colab": {
          "base_uri": "https://localhost:8080/"
        },
        "outputId": "478abd7e-3671-44b3-e8a7-905e212c6d13"
      },
      "execution_count": 61,
      "outputs": [
        {
          "output_type": "stream",
          "name": "stdout",
          "text": [
            "Drive already mounted at /content/drive; to attempt to forcibly remount, call drive.mount(\"/content/drive\", force_remount=True).\n"
          ]
        }
      ]
    },
    {
      "cell_type": "code",
      "source": [
        "torch.manual_seed(42)"
      ],
      "metadata": {
        "id": "oeoLbbkBTb49",
        "outputId": "588e2ed7-dc11-40bc-c57f-d4c6fc1d547a",
        "colab": {
          "base_uri": "https://localhost:8080/"
        }
      },
      "execution_count": 62,
      "outputs": [
        {
          "output_type": "execute_result",
          "data": {
            "text/plain": [
              "<torch._C.Generator at 0x7f307ac4f330>"
            ]
          },
          "metadata": {},
          "execution_count": 62
        }
      ]
    },
    {
      "cell_type": "markdown",
      "source": [
        "# Load Data"
      ],
      "metadata": {
        "id": "HOhVc0tzozDk"
      }
    },
    {
      "cell_type": "code",
      "source": [
        "# Define the ticker symbol\n",
        "ticker = \"MSFT\"\n",
        "\n",
        "# Set the start and end dates for the data\n",
        "start_date = \"2000-01-01\"\n",
        "end_date = \"2023-04-30\"\n",
        "\n",
        "# Download the data from Yahoo Finance\n",
        "data = yf.download(ticker, start=start_date, end=end_date)"
      ],
      "metadata": {
        "colab": {
          "base_uri": "https://localhost:8080/"
        },
        "id": "R4N_JQSjrFYH",
        "outputId": "b44420fa-5115-4eba-ff40-92ccb5ded677"
      },
      "execution_count": 63,
      "outputs": [
        {
          "output_type": "stream",
          "name": "stdout",
          "text": [
            "\r[*********************100%***********************]  1 of 1 completed\n"
          ]
        }
      ]
    },
    {
      "cell_type": "code",
      "source": [
        "data.head()"
      ],
      "metadata": {
        "colab": {
          "base_uri": "https://localhost:8080/",
          "height": 237
        },
        "id": "ZdZp4lvXr0Fd",
        "outputId": "85874fac-35f0-4948-dfe3-15699929b5e6"
      },
      "execution_count": 64,
      "outputs": [
        {
          "output_type": "execute_result",
          "data": {
            "text/plain": [
              "                Open     High       Low     Close  Adj Close    Volume\n",
              "Date                                                                  \n",
              "2000-01-03  58.68750  59.3125  56.00000  58.28125  36.282249  53228400\n",
              "2000-01-04  56.78125  58.5625  56.12500  56.31250  35.056625  54119000\n",
              "2000-01-05  55.56250  58.1875  54.68750  56.90625  35.426266  64059600\n",
              "2000-01-06  56.09375  56.9375  54.18750  55.00000  34.239555  54976600\n",
              "2000-01-07  54.31250  56.1250  53.65625  55.71875  34.687008  62013600"
            ],
            "text/html": [
              "\n",
              "  <div id=\"df-85dc46a6-5304-4476-8cf7-294ac9dd8075\">\n",
              "    <div class=\"colab-df-container\">\n",
              "      <div>\n",
              "<style scoped>\n",
              "    .dataframe tbody tr th:only-of-type {\n",
              "        vertical-align: middle;\n",
              "    }\n",
              "\n",
              "    .dataframe tbody tr th {\n",
              "        vertical-align: top;\n",
              "    }\n",
              "\n",
              "    .dataframe thead th {\n",
              "        text-align: right;\n",
              "    }\n",
              "</style>\n",
              "<table border=\"1\" class=\"dataframe\">\n",
              "  <thead>\n",
              "    <tr style=\"text-align: right;\">\n",
              "      <th></th>\n",
              "      <th>Open</th>\n",
              "      <th>High</th>\n",
              "      <th>Low</th>\n",
              "      <th>Close</th>\n",
              "      <th>Adj Close</th>\n",
              "      <th>Volume</th>\n",
              "    </tr>\n",
              "    <tr>\n",
              "      <th>Date</th>\n",
              "      <th></th>\n",
              "      <th></th>\n",
              "      <th></th>\n",
              "      <th></th>\n",
              "      <th></th>\n",
              "      <th></th>\n",
              "    </tr>\n",
              "  </thead>\n",
              "  <tbody>\n",
              "    <tr>\n",
              "      <th>2000-01-03</th>\n",
              "      <td>58.68750</td>\n",
              "      <td>59.3125</td>\n",
              "      <td>56.00000</td>\n",
              "      <td>58.28125</td>\n",
              "      <td>36.282249</td>\n",
              "      <td>53228400</td>\n",
              "    </tr>\n",
              "    <tr>\n",
              "      <th>2000-01-04</th>\n",
              "      <td>56.78125</td>\n",
              "      <td>58.5625</td>\n",
              "      <td>56.12500</td>\n",
              "      <td>56.31250</td>\n",
              "      <td>35.056625</td>\n",
              "      <td>54119000</td>\n",
              "    </tr>\n",
              "    <tr>\n",
              "      <th>2000-01-05</th>\n",
              "      <td>55.56250</td>\n",
              "      <td>58.1875</td>\n",
              "      <td>54.68750</td>\n",
              "      <td>56.90625</td>\n",
              "      <td>35.426266</td>\n",
              "      <td>64059600</td>\n",
              "    </tr>\n",
              "    <tr>\n",
              "      <th>2000-01-06</th>\n",
              "      <td>56.09375</td>\n",
              "      <td>56.9375</td>\n",
              "      <td>54.18750</td>\n",
              "      <td>55.00000</td>\n",
              "      <td>34.239555</td>\n",
              "      <td>54976600</td>\n",
              "    </tr>\n",
              "    <tr>\n",
              "      <th>2000-01-07</th>\n",
              "      <td>54.31250</td>\n",
              "      <td>56.1250</td>\n",
              "      <td>53.65625</td>\n",
              "      <td>55.71875</td>\n",
              "      <td>34.687008</td>\n",
              "      <td>62013600</td>\n",
              "    </tr>\n",
              "  </tbody>\n",
              "</table>\n",
              "</div>\n",
              "      <button class=\"colab-df-convert\" onclick=\"convertToInteractive('df-85dc46a6-5304-4476-8cf7-294ac9dd8075')\"\n",
              "              title=\"Convert this dataframe to an interactive table.\"\n",
              "              style=\"display:none;\">\n",
              "        \n",
              "  <svg xmlns=\"http://www.w3.org/2000/svg\" height=\"24px\"viewBox=\"0 0 24 24\"\n",
              "       width=\"24px\">\n",
              "    <path d=\"M0 0h24v24H0V0z\" fill=\"none\"/>\n",
              "    <path d=\"M18.56 5.44l.94 2.06.94-2.06 2.06-.94-2.06-.94-.94-2.06-.94 2.06-2.06.94zm-11 1L8.5 8.5l.94-2.06 2.06-.94-2.06-.94L8.5 2.5l-.94 2.06-2.06.94zm10 10l.94 2.06.94-2.06 2.06-.94-2.06-.94-.94-2.06-.94 2.06-2.06.94z\"/><path d=\"M17.41 7.96l-1.37-1.37c-.4-.4-.92-.59-1.43-.59-.52 0-1.04.2-1.43.59L10.3 9.45l-7.72 7.72c-.78.78-.78 2.05 0 2.83L4 21.41c.39.39.9.59 1.41.59.51 0 1.02-.2 1.41-.59l7.78-7.78 2.81-2.81c.8-.78.8-2.07 0-2.86zM5.41 20L4 18.59l7.72-7.72 1.47 1.35L5.41 20z\"/>\n",
              "  </svg>\n",
              "      </button>\n",
              "      \n",
              "  <style>\n",
              "    .colab-df-container {\n",
              "      display:flex;\n",
              "      flex-wrap:wrap;\n",
              "      gap: 12px;\n",
              "    }\n",
              "\n",
              "    .colab-df-convert {\n",
              "      background-color: #E8F0FE;\n",
              "      border: none;\n",
              "      border-radius: 50%;\n",
              "      cursor: pointer;\n",
              "      display: none;\n",
              "      fill: #1967D2;\n",
              "      height: 32px;\n",
              "      padding: 0 0 0 0;\n",
              "      width: 32px;\n",
              "    }\n",
              "\n",
              "    .colab-df-convert:hover {\n",
              "      background-color: #E2EBFA;\n",
              "      box-shadow: 0px 1px 2px rgba(60, 64, 67, 0.3), 0px 1px 3px 1px rgba(60, 64, 67, 0.15);\n",
              "      fill: #174EA6;\n",
              "    }\n",
              "\n",
              "    [theme=dark] .colab-df-convert {\n",
              "      background-color: #3B4455;\n",
              "      fill: #D2E3FC;\n",
              "    }\n",
              "\n",
              "    [theme=dark] .colab-df-convert:hover {\n",
              "      background-color: #434B5C;\n",
              "      box-shadow: 0px 1px 3px 1px rgba(0, 0, 0, 0.15);\n",
              "      filter: drop-shadow(0px 1px 2px rgba(0, 0, 0, 0.3));\n",
              "      fill: #FFFFFF;\n",
              "    }\n",
              "  </style>\n",
              "\n",
              "      <script>\n",
              "        const buttonEl =\n",
              "          document.querySelector('#df-85dc46a6-5304-4476-8cf7-294ac9dd8075 button.colab-df-convert');\n",
              "        buttonEl.style.display =\n",
              "          google.colab.kernel.accessAllowed ? 'block' : 'none';\n",
              "\n",
              "        async function convertToInteractive(key) {\n",
              "          const element = document.querySelector('#df-85dc46a6-5304-4476-8cf7-294ac9dd8075');\n",
              "          const dataTable =\n",
              "            await google.colab.kernel.invokeFunction('convertToInteractive',\n",
              "                                                     [key], {});\n",
              "          if (!dataTable) return;\n",
              "\n",
              "          const docLinkHtml = 'Like what you see? Visit the ' +\n",
              "            '<a target=\"_blank\" href=https://colab.research.google.com/notebooks/data_table.ipynb>data table notebook</a>'\n",
              "            + ' to learn more about interactive tables.';\n",
              "          element.innerHTML = '';\n",
              "          dataTable['output_type'] = 'display_data';\n",
              "          await google.colab.output.renderOutput(dataTable, element);\n",
              "          const docLink = document.createElement('div');\n",
              "          docLink.innerHTML = docLinkHtml;\n",
              "          element.appendChild(docLink);\n",
              "        }\n",
              "      </script>\n",
              "    </div>\n",
              "  </div>\n",
              "  "
            ]
          },
          "metadata": {},
          "execution_count": 64
        }
      ]
    },
    {
      "cell_type": "code",
      "source": [
        "df = data.drop(labels=['Open', 'High', 'Low', 'Close', 'Volume'], axis=1)\n",
        "df.head()"
      ],
      "metadata": {
        "colab": {
          "base_uri": "https://localhost:8080/",
          "height": 237
        },
        "id": "jmMJZXfWsJYl",
        "outputId": "7baa92a9-1a13-4091-9b95-0d149e615a6e"
      },
      "execution_count": 65,
      "outputs": [
        {
          "output_type": "execute_result",
          "data": {
            "text/plain": [
              "            Adj Close\n",
              "Date                 \n",
              "2000-01-03  36.282249\n",
              "2000-01-04  35.056625\n",
              "2000-01-05  35.426266\n",
              "2000-01-06  34.239555\n",
              "2000-01-07  34.687008"
            ],
            "text/html": [
              "\n",
              "  <div id=\"df-56bc0d2b-0307-4a5d-8d97-9d85e4715c5c\">\n",
              "    <div class=\"colab-df-container\">\n",
              "      <div>\n",
              "<style scoped>\n",
              "    .dataframe tbody tr th:only-of-type {\n",
              "        vertical-align: middle;\n",
              "    }\n",
              "\n",
              "    .dataframe tbody tr th {\n",
              "        vertical-align: top;\n",
              "    }\n",
              "\n",
              "    .dataframe thead th {\n",
              "        text-align: right;\n",
              "    }\n",
              "</style>\n",
              "<table border=\"1\" class=\"dataframe\">\n",
              "  <thead>\n",
              "    <tr style=\"text-align: right;\">\n",
              "      <th></th>\n",
              "      <th>Adj Close</th>\n",
              "    </tr>\n",
              "    <tr>\n",
              "      <th>Date</th>\n",
              "      <th></th>\n",
              "    </tr>\n",
              "  </thead>\n",
              "  <tbody>\n",
              "    <tr>\n",
              "      <th>2000-01-03</th>\n",
              "      <td>36.282249</td>\n",
              "    </tr>\n",
              "    <tr>\n",
              "      <th>2000-01-04</th>\n",
              "      <td>35.056625</td>\n",
              "    </tr>\n",
              "    <tr>\n",
              "      <th>2000-01-05</th>\n",
              "      <td>35.426266</td>\n",
              "    </tr>\n",
              "    <tr>\n",
              "      <th>2000-01-06</th>\n",
              "      <td>34.239555</td>\n",
              "    </tr>\n",
              "    <tr>\n",
              "      <th>2000-01-07</th>\n",
              "      <td>34.687008</td>\n",
              "    </tr>\n",
              "  </tbody>\n",
              "</table>\n",
              "</div>\n",
              "      <button class=\"colab-df-convert\" onclick=\"convertToInteractive('df-56bc0d2b-0307-4a5d-8d97-9d85e4715c5c')\"\n",
              "              title=\"Convert this dataframe to an interactive table.\"\n",
              "              style=\"display:none;\">\n",
              "        \n",
              "  <svg xmlns=\"http://www.w3.org/2000/svg\" height=\"24px\"viewBox=\"0 0 24 24\"\n",
              "       width=\"24px\">\n",
              "    <path d=\"M0 0h24v24H0V0z\" fill=\"none\"/>\n",
              "    <path d=\"M18.56 5.44l.94 2.06.94-2.06 2.06-.94-2.06-.94-.94-2.06-.94 2.06-2.06.94zm-11 1L8.5 8.5l.94-2.06 2.06-.94-2.06-.94L8.5 2.5l-.94 2.06-2.06.94zm10 10l.94 2.06.94-2.06 2.06-.94-2.06-.94-.94-2.06-.94 2.06-2.06.94z\"/><path d=\"M17.41 7.96l-1.37-1.37c-.4-.4-.92-.59-1.43-.59-.52 0-1.04.2-1.43.59L10.3 9.45l-7.72 7.72c-.78.78-.78 2.05 0 2.83L4 21.41c.39.39.9.59 1.41.59.51 0 1.02-.2 1.41-.59l7.78-7.78 2.81-2.81c.8-.78.8-2.07 0-2.86zM5.41 20L4 18.59l7.72-7.72 1.47 1.35L5.41 20z\"/>\n",
              "  </svg>\n",
              "      </button>\n",
              "      \n",
              "  <style>\n",
              "    .colab-df-container {\n",
              "      display:flex;\n",
              "      flex-wrap:wrap;\n",
              "      gap: 12px;\n",
              "    }\n",
              "\n",
              "    .colab-df-convert {\n",
              "      background-color: #E8F0FE;\n",
              "      border: none;\n",
              "      border-radius: 50%;\n",
              "      cursor: pointer;\n",
              "      display: none;\n",
              "      fill: #1967D2;\n",
              "      height: 32px;\n",
              "      padding: 0 0 0 0;\n",
              "      width: 32px;\n",
              "    }\n",
              "\n",
              "    .colab-df-convert:hover {\n",
              "      background-color: #E2EBFA;\n",
              "      box-shadow: 0px 1px 2px rgba(60, 64, 67, 0.3), 0px 1px 3px 1px rgba(60, 64, 67, 0.15);\n",
              "      fill: #174EA6;\n",
              "    }\n",
              "\n",
              "    [theme=dark] .colab-df-convert {\n",
              "      background-color: #3B4455;\n",
              "      fill: #D2E3FC;\n",
              "    }\n",
              "\n",
              "    [theme=dark] .colab-df-convert:hover {\n",
              "      background-color: #434B5C;\n",
              "      box-shadow: 0px 1px 3px 1px rgba(0, 0, 0, 0.15);\n",
              "      filter: drop-shadow(0px 1px 2px rgba(0, 0, 0, 0.3));\n",
              "      fill: #FFFFFF;\n",
              "    }\n",
              "  </style>\n",
              "\n",
              "      <script>\n",
              "        const buttonEl =\n",
              "          document.querySelector('#df-56bc0d2b-0307-4a5d-8d97-9d85e4715c5c button.colab-df-convert');\n",
              "        buttonEl.style.display =\n",
              "          google.colab.kernel.accessAllowed ? 'block' : 'none';\n",
              "\n",
              "        async function convertToInteractive(key) {\n",
              "          const element = document.querySelector('#df-56bc0d2b-0307-4a5d-8d97-9d85e4715c5c');\n",
              "          const dataTable =\n",
              "            await google.colab.kernel.invokeFunction('convertToInteractive',\n",
              "                                                     [key], {});\n",
              "          if (!dataTable) return;\n",
              "\n",
              "          const docLinkHtml = 'Like what you see? Visit the ' +\n",
              "            '<a target=\"_blank\" href=https://colab.research.google.com/notebooks/data_table.ipynb>data table notebook</a>'\n",
              "            + ' to learn more about interactive tables.';\n",
              "          element.innerHTML = '';\n",
              "          dataTable['output_type'] = 'display_data';\n",
              "          await google.colab.output.renderOutput(dataTable, element);\n",
              "          const docLink = document.createElement('div');\n",
              "          docLink.innerHTML = docLinkHtml;\n",
              "          element.appendChild(docLink);\n",
              "        }\n",
              "      </script>\n",
              "    </div>\n",
              "  </div>\n",
              "  "
            ]
          },
          "metadata": {},
          "execution_count": 65
        }
      ]
    },
    {
      "cell_type": "markdown",
      "source": [
        "# Plot Adj Closing Price Over Time"
      ],
      "metadata": {
        "id": "jSYADxXUxwXZ"
      }
    },
    {
      "cell_type": "code",
      "source": [
        "plt.plot(df.index, df['Adj Close'])\n",
        "plt.title('Adjusted Closing Price Over Time')\n",
        "plt.xlabel('Date')\n",
        "plt.ylabel('Adj Close')\n",
        "plt.show()"
      ],
      "metadata": {
        "colab": {
          "base_uri": "https://localhost:8080/",
          "height": 557
        },
        "id": "iB_wUpaTGv1C",
        "outputId": "1b479c41-76f8-4ef1-f696-39fa5aeb199e"
      },
      "execution_count": 66,
      "outputs": [
        {
          "output_type": "display_data",
          "data": {
            "text/plain": [
              "<Figure size 1000x600 with 1 Axes>"
            ],
            "image/png": "[encoded data removed]"
          },
          "metadata": {}
        }
      ]
    },
    {
      "cell_type": "markdown",
      "source": [
        "# Prepare Data"
      ],
      "metadata": {
        "id": "xnh6YLaBCyNS"
      }
    },
    {
      "cell_type": "code",
      "source": [
        "def prepare_df(df, window_size):\n",
        "  df = df.copy()\n",
        "\n",
        "  for i in range(1, window_size + 1):\n",
        "    df[f'Adj Close(t-{i})'] = df['Adj Close'].shift(i)\n",
        "\n",
        "  return df.dropna()"
      ],
      "metadata": {
        "id": "yynDLt5e3QtG"
      },
      "execution_count": 67,
      "outputs": []
    },
    {
      "cell_type": "code",
      "source": [
        "window_size = 5\n",
        "dataset = prepare_df(df, window_size=window_size)\n",
        "X = dataset.iloc[:, 1:window_size+1].iloc[:, ::-1]\n",
        "y = dataset.iloc[:, window_size+1:]\n",
        "dataset = pd.concat([X, dataset.iloc[:, 0], y], axis=1)\n",
        "dataset.head()"
      ],
      "metadata": {
        "colab": {
          "base_uri": "https://localhost:8080/",
          "height": 237
        },
        "id": "-njHpePxOQLM",
        "outputId": "71185bd1-f534-4091-90d4-34755815878b"
      },
      "execution_count": 68,
      "outputs": [
        {
          "output_type": "execute_result",
          "data": {
            "text/plain": [
              "            Adj Close(t-5)  Adj Close(t-4)  Adj Close(t-3)  Adj Close(t-2)  \\\n",
              "Date                                                                         \n",
              "2000-01-10       36.282249       35.056625       35.426266       34.239555   \n",
              "2000-01-11       35.056625       35.426266       34.239555       34.687008   \n",
              "2000-01-12       35.426266       34.239555       34.687008       34.939907   \n",
              "2000-01-13       34.239555       34.687008       34.939907       34.045017   \n",
              "2000-01-14       34.687008       34.939907       34.045017       32.936119   \n",
              "\n",
              "            Adj Close(t-1)  Adj Close  \n",
              "Date                                   \n",
              "2000-01-10       34.687008  34.939907  \n",
              "2000-01-11       34.939907  34.045017  \n",
              "2000-01-12       34.045017  32.936119  \n",
              "2000-01-13       32.936119  33.558647  \n",
              "2000-01-14       33.558647  34.939907  "
            ],
            "text/html": [
              "\n",
              "  <div id=\"df-74dc2a6a-57f9-483c-91b3-887d11cf84dc\">\n",
              "    <div class=\"colab-df-container\">\n",
              "      <div>\n",
              "<style scoped>\n",
              "    .dataframe tbody tr th:only-of-type {\n",
              "        vertical-align: middle;\n",
              "    }\n",
              "\n",
              "    .dataframe tbody tr th {\n",
              "        vertical-align: top;\n",
              "    }\n",
              "\n",
              "    .dataframe thead th {\n",
              "        text-align: right;\n",
              "    }\n",
              "</style>\n",
              "<table border=\"1\" class=\"dataframe\">\n",
              "  <thead>\n",
              "    <tr style=\"text-align: right;\">\n",
              "      <th></th>\n",
              "      <th>Adj Close(t-5)</th>\n",
              "      <th>Adj Close(t-4)</th>\n",
              "      <th>Adj Close(t-3)</th>\n",
              "      <th>Adj Close(t-2)</th>\n",
              "      <th>Adj Close(t-1)</th>\n",
              "      <th>Adj Close</th>\n",
              "    </tr>\n",
              "    <tr>\n",
              "      <th>Date</th>\n",
              "      <th></th>\n",
              "      <th></th>\n",
              "      <th></th>\n",
              "      <th></th>\n",
              "      <th></th>\n",
              "      <th></th>\n",
              "    </tr>\n",
              "  </thead>\n",
              "  <tbody>\n",
              "    <tr>\n",
              "      <th>2000-01-10</th>\n",
              "      <td>36.282249</td>\n",
              "      <td>35.056625</td>\n",
              "      <td>35.426266</td>\n",
              "      <td>34.239555</td>\n",
              "      <td>34.687008</td>\n",
              "      <td>34.939907</td>\n",
              "    </tr>\n",
              "    <tr>\n",
              "      <th>2000-01-11</th>\n",
              "      <td>35.056625</td>\n",
              "      <td>35.426266</td>\n",
              "      <td>34.239555</td>\n",
              "      <td>34.687008</td>\n",
              "      <td>34.939907</td>\n",
              "      <td>34.045017</td>\n",
              "    </tr>\n",
              "    <tr>\n",
              "      <th>2000-01-12</th>\n",
              "      <td>35.426266</td>\n",
              "      <td>34.239555</td>\n",
              "      <td>34.687008</td>\n",
              "      <td>34.939907</td>\n",
              "      <td>34.045017</td>\n",
              "      <td>32.936119</td>\n",
              "    </tr>\n",
              "    <tr>\n",
              "      <th>2000-01-13</th>\n",
              "      <td>34.239555</td>\n",
              "      <td>34.687008</td>\n",
              "      <td>34.939907</td>\n",
              "      <td>34.045017</td>\n",
              "      <td>32.936119</td>\n",
              "      <td>33.558647</td>\n",
              "    </tr>\n",
              "    <tr>\n",
              "      <th>2000-01-14</th>\n",
              "      <td>34.687008</td>\n",
              "      <td>34.939907</td>\n",
              "      <td>34.045017</td>\n",
              "      <td>32.936119</td>\n",
              "      <td>33.558647</td>\n",
              "      <td>34.939907</td>\n",
              "    </tr>\n",
              "  </tbody>\n",
              "</table>\n",
              "</div>\n",
              "      <button class=\"colab-df-convert\" onclick=\"convertToInteractive('df-74dc2a6a-57f9-483c-91b3-887d11cf84dc')\"\n",
              "              title=\"Convert this dataframe to an interactive table.\"\n",
              "              style=\"display:none;\">\n",
              "        \n",
              "  <svg xmlns=\"http://www.w3.org/2000/svg\" height=\"24px\"viewBox=\"0 0 24 24\"\n",
              "       width=\"24px\">\n",
              "    <path d=\"M0 0h24v24H0V0z\" fill=\"none\"/>\n",
              "    <path d=\"M18.56 5.44l.94 2.06.94-2.06 2.06-.94-2.06-.94-.94-2.06-.94 2.06-2.06.94zm-11 1L8.5 8.5l.94-2.06 2.06-.94-2.06-.94L8.5 2.5l-.94 2.06-2.06.94zm10 10l.94 2.06.94-2.06 2.06-.94-2.06-.94-.94-2.06-.94 2.06-2.06.94z\"/><path d=\"M17.41 7.96l-1.37-1.37c-.4-.4-.92-.59-1.43-.59-.52 0-1.04.2-1.43.59L10.3 9.45l-7.72 7.72c-.78.78-.78 2.05 0 2.83L4 21.41c.39.39.9.59 1.41.59.51 0 1.02-.2 1.41-.59l7.78-7.78 2.81-2.81c.8-.78.8-2.07 0-2.86zM5.41 20L4 18.59l7.72-7.72 1.47 1.35L5.41 20z\"/>\n",
              "  </svg>\n",
              "      </button>\n",
              "      \n",
              "  <style>\n",
              "    .colab-df-container {\n",
              "      display:flex;\n",
              "      flex-wrap:wrap;\n",
              "      gap: 12px;\n",
              "    }\n",
              "\n",
              "    .colab-df-convert {\n",
              "      background-color: #E8F0FE;\n",
              "      border: none;\n",
              "      border-radius: 50%;\n",
              "      cursor: pointer;\n",
              "      display: none;\n",
              "      fill: #1967D2;\n",
              "      height: 32px;\n",
              "      padding: 0 0 0 0;\n",
              "      width: 32px;\n",
              "    }\n",
              "\n",
              "    .colab-df-convert:hover {\n",
              "      background-color: #E2EBFA;\n",
              "      box-shadow: 0px 1px 2px rgba(60, 64, 67, 0.3), 0px 1px 3px 1px rgba(60, 64, 67, 0.15);\n",
              "      fill: #174EA6;\n",
              "    }\n",
              "\n",
              "    [theme=dark] .colab-df-convert {\n",
              "      background-color: #3B4455;\n",
              "      fill: #D2E3FC;\n",
              "    }\n",
              "\n",
              "    [theme=dark] .colab-df-convert:hover {\n",
              "      background-color: #434B5C;\n",
              "      box-shadow: 0px 1px 3px 1px rgba(0, 0, 0, 0.15);\n",
              "      filter: drop-shadow(0px 1px 2px rgba(0, 0, 0, 0.3));\n",
              "      fill: #FFFFFF;\n",
              "    }\n",
              "  </style>\n",
              "\n",
              "      <script>\n",
              "        const buttonEl =\n",
              "          document.querySelector('#df-74dc2a6a-57f9-483c-91b3-887d11cf84dc button.colab-df-convert');\n",
              "        buttonEl.style.display =\n",
              "          google.colab.kernel.accessAllowed ? 'block' : 'none';\n",
              "\n",
              "        async function convertToInteractive(key) {\n",
              "          const element = document.querySelector('#df-74dc2a6a-57f9-483c-91b3-887d11cf84dc');\n",
              "          const dataTable =\n",
              "            await google.colab.kernel.invokeFunction('convertToInteractive',\n",
              "                                                     [key], {});\n",
              "          if (!dataTable) return;\n",
              "\n",
              "          const docLinkHtml = 'Like what you see? Visit the ' +\n",
              "            '<a target=\"_blank\" href=https://colab.research.google.com/notebooks/data_table.ipynb>data table notebook</a>'\n",
              "            + ' to learn more about interactive tables.';\n",
              "          element.innerHTML = '';\n",
              "          dataTable['output_type'] = 'display_data';\n",
              "          await google.colab.output.renderOutput(dataTable, element);\n",
              "          const docLink = document.createElement('div');\n",
              "          docLink.innerHTML = docLinkHtml;\n",
              "          element.appendChild(docLink);\n",
              "        }\n",
              "      </script>\n",
              "    </div>\n",
              "  </div>\n",
              "  "
            ]
          },
          "metadata": {},
          "execution_count": 68
        }
      ]
    },
    {
      "cell_type": "code",
      "source": [
        "train, val = train_test_split(dataset, test_size=0.1, shuffle=False) # do not shuffle"
      ],
      "metadata": {
        "id": "MmJJ_VRrfbBo"
      },
      "execution_count": 69,
      "outputs": []
    },
    {
      "cell_type": "code",
      "source": [
        "scaler = MinMaxScaler().fit(train) # fit scaler"
      ],
      "metadata": {
        "id": "odDcL69ewyZc"
      },
      "execution_count": 70,
      "outputs": []
    },
    {
      "cell_type": "markdown",
      "source": [
        "### Create a PyTorch Dataset"
      ],
      "metadata": {
        "id": "e8tCINprZe_d"
      }
    },
    {
      "cell_type": "code",
      "source": [
        "class MicrosoftDataset(Dataset):\n",
        "  def __init__(self, dataset, scaler):\n",
        "    dataset = scaler.transform(dataset)\n",
        "    X, y = dataset[:, :window_size], dataset[:, window_size:]\n",
        "    self.X = torch.tensor(np.expand_dims(X, axis=-1)).float()\n",
        "    self.y = torch.tensor(y).float()\n",
        "\n",
        "  def __len__(self):\n",
        "    return len(self.y)\n",
        "\n",
        "  def __getitem__(self, idx):\n",
        "    return self.X[idx], self.y[idx]"
      ],
      "metadata": {
        "id": "e52dkUBihJWf"
      },
      "execution_count": 71,
      "outputs": []
    },
    {
      "cell_type": "code",
      "source": [
        "# load in datasets\n",
        "train_ds = MicrosoftDataset(train, scaler)\n",
        "val_ds = MicrosoftDataset(val, scaler)\n",
        "\n",
        "# batch into dataloaders\n",
        "train_loader = DataLoader(train_ds, batch_size=32, shuffle=True)\n",
        "val_loader = DataLoader(val_ds, batch_size=32, shuffle=False)"
      ],
      "metadata": {
        "id": "Pa1bnofO1Whu"
      },
      "execution_count": 72,
      "outputs": []
    },
    {
      "cell_type": "code",
      "source": [
        "print(f'Train Loader Size: {len(train_loader)} \\nValid Loader Size: {len(val_loader)}')"
      ],
      "metadata": {
        "colab": {
          "base_uri": "https://localhost:8080/"
        },
        "id": "v3qEqYE5-COx",
        "outputId": "ee10e0d2-b430-4c09-e870-0a04f8ecc76c"
      },
      "execution_count": 73,
      "outputs": [
        {
          "output_type": "stream",
          "name": "stdout",
          "text": [
            "Train Loader Size: 165 \n",
            "Valid Loader Size: 19\n"
          ]
        }
      ]
    },
    {
      "cell_type": "code",
      "source": [
        "ex_in, ex_out = next(iter(train_loader))\n",
        "print(ex_in.shape, ex_out.shape)"
      ],
      "metadata": {
        "colab": {
          "base_uri": "https://localhost:8080/"
        },
        "id": "gSCeSEzY2IWR",
        "outputId": "31967c52-919c-49f3-c9ff-a397f652225a"
      },
      "execution_count": 74,
      "outputs": [
        {
          "output_type": "stream",
          "name": "stdout",
          "text": [
            "torch.Size([32, 5, 1]) torch.Size([32, 1])\n"
          ]
        }
      ]
    },
    {
      "cell_type": "markdown",
      "source": [
        "# Define Model"
      ],
      "metadata": {
        "id": "_5quMZmKDd7L"
      }
    },
    {
      "cell_type": "code",
      "source": [
        "INPUT_SIZE = 1\n",
        "HIDDEN_SIZE = 64\n",
        "OUTPUT_SIZE = 1\n",
        "NUM_LAYERS = 2\n",
        "DEVICE = torch.device(\"cuda:0\" if torch.cuda.is_available() else \"cpu\")"
      ],
      "metadata": {
        "id": "TM2JqCMARYKo"
      },
      "execution_count": 75,
      "outputs": []
    },
    {
      "cell_type": "code",
      "source": [
        "class LSTM(nn.Module):\n",
        "  def __init__(self, input_size, hidden_size, output_size, num_layers):\n",
        "    super(LSTM, self).__init__()\n",
        "    self.input_size = input_size\n",
        "    self.hidden_size = hidden_size\n",
        "    self.output_size = output_size\n",
        "    self.num_layers = num_layers\n",
        "    self.lstm = nn.LSTM(input_size, hidden_size, num_layers, batch_first=True)\n",
        "    self.dense_1 = nn.Linear(hidden_size, 128)\n",
        "    self.dense_2 = nn.Linear(128, 256)\n",
        "    self.dense_3 = nn.Linear(256, output_size)\n",
        "    \n",
        "  def forward(self, x):\n",
        "    h0 = torch.zeros(self.num_layers, x.size(0), self.hidden_size).to(DEVICE)\n",
        "    c0 = torch.zeros(self.num_layers, x.size(0), self.hidden_size).to(DEVICE)\n",
        "    out, _ = self.lstm(x, (h0, c0))\n",
        "    out = self.dense_1(out[:, -1, :])\n",
        "    out = self.dense_2(out)\n",
        "    out = self.dense_3(out)\n",
        "    return out"
      ],
      "metadata": {
        "id": "PG29j1C0HSPv"
      },
      "execution_count": 76,
      "outputs": []
    },
    {
      "cell_type": "markdown",
      "source": [
        "# Create Early Stopper"
      ],
      "metadata": {
        "id": "R9h7To4dpDUU"
      }
    },
    {
      "cell_type": "code",
      "source": [
        "class EarlyStopping:\n",
        "  def __init__(self, patience=5, min_delta=0, restore_best_weights=True):\n",
        "    self.patience = patience\n",
        "    self.min_delta = min_delta\n",
        "    self.restore_best_weights = restore_best_weights\n",
        "    self.best_model = None\n",
        "    self.best_loss = None\n",
        "    self.counter = 0\n",
        "    self.status = \"\"\n",
        "    \n",
        "  def __call__(self, model, val_loss):\n",
        "    if self.best_loss == None:\n",
        "      self.best_loss = val_loss\n",
        "      self.best_model = copy.deepcopy(model)\n",
        "    elif self.best_loss - val_loss > self.min_delta:\n",
        "      self.best_loss = val_loss\n",
        "      self.counter = 0\n",
        "      self.best_model.load_state_dict(model.state_dict())\n",
        "    elif self.best_loss - val_loss < self.min_delta:\n",
        "      self.counter += 1\n",
        "      if self.counter >= self.patience:\n",
        "        self.status = f\"Stopped on {self.counter}\"\n",
        "        if self.restore_best_weights:\n",
        "          model.load_state_dict(self.best_model.state_dict())\n",
        "        return True\n",
        "    self.status = f\"{self.counter}/{self.patience}\"\n",
        "    return False"
      ],
      "metadata": {
        "id": "3iTrb8zdTaVh"
      },
      "execution_count": 77,
      "outputs": []
    },
    {
      "cell_type": "markdown",
      "source": [
        "# Create Trainer"
      ],
      "metadata": {
        "id": "uAq4zlzPpFxO"
      }
    },
    {
      "cell_type": "code",
      "source": [
        "class Trainer:\n",
        "  def __init__(self, \n",
        "               train_loader, \n",
        "               val_loader, \n",
        "               criterion, \n",
        "               optimizer, \n",
        "               model,\n",
        "               device,\n",
        "               max_epochs):\n",
        "    self.train_loader = train_loader \n",
        "    self.val_loader = val_loader\n",
        "    self.criterion = criterion\n",
        "    self.optimizer = optimizer\n",
        "    self.model = model.to(device)\n",
        "    self.device = device\n",
        "    self.early_stopper = EarlyStopping(patience=10)\n",
        "    self.max_epochs = max_epochs\n",
        "    self.history = {}\n",
        "    self.output_dir = '/content/drive/MyDrive/Models/TimeSeriesLSTM'\n",
        "    self.scheduler = optim.lr_scheduler.ReduceLROnPlateau(optimizer, mode='min', factor=0.1, patience=5, verbose=True)\n",
        "\n",
        "\n",
        "  def _train_epoch(self):\n",
        "    self.model.train()\n",
        "    running_loss = 0.00\n",
        "    for batch_idx, (input, truth) in enumerate(self.train_loader):\n",
        "      input, truth = input.to(self.device), truth.to(self.device)\n",
        "      self.optimizer.zero_grad()\n",
        "      pred = self.model(input)\n",
        "      loss = self.criterion(pred, truth)\n",
        "      loss.backward()\n",
        "      self.optimizer.step()\n",
        "      running_loss+=loss.item()\n",
        "    \n",
        "    return running_loss/len(self.train_loader)\n",
        "\n",
        "  @torch.no_grad()\n",
        "  def _eval_epoch(self):\n",
        "    self.model.eval()\n",
        "    running_loss = 0.00\n",
        "    for batch_idx, (input, truth) in enumerate(self.val_loader):\n",
        "      input, truth = input.to(self.device), truth.to(self.device)\n",
        "      pred = self.model(input)\n",
        "      loss = self.criterion(pred, truth)\n",
        "      running_loss+=loss.item()\n",
        "    return running_loss/len(self.val_loader)\n",
        "\n",
        "  def train(self):\n",
        "    best_val_loss = np.inf\n",
        "    best_epoch = 0\n",
        "\n",
        "    train_losses, val_losses = [], []\n",
        "    for epoch in range(self.max_epochs):\n",
        "      print(f'Epoch {epoch+1}/{self.max_epochs}:')\n",
        "\n",
        "      tloss = self._train_epoch()\n",
        "      train_losses.append(tloss)\n",
        "      print(f'Train loss: {tloss:.4f}')\n",
        "  \n",
        "      vloss = self._eval_epoch()\n",
        "      val_losses.append(vloss)\n",
        "      print(f'Val loss: {vloss:.4f}')\n",
        "      \n",
        "      self.scheduler.step(vloss)\n",
        "\n",
        "      if vloss < best_val_loss:\n",
        "        best_val_loss = vloss\n",
        "        best_epoch = epoch + 1\n",
        "\n",
        "      if self.early_stopper(self.model, vloss):\n",
        "        print(f'best epoch: {best_epoch}')\n",
        "        break\n",
        "\n",
        "      print()\n",
        "\n",
        "    print('Training Finished')\n",
        "    torch.save(self.model, self.output_dir)\n",
        "    \n",
        "    self.history = {'train': train_losses, 'val': val_losses}\n",
        "\n",
        "  def evaluate(self):\n",
        "    vloss = self._eval_epoch()\n",
        "    return np.round(vloss, 4)"
      ],
      "metadata": {
        "id": "7C6pJJt3Smxf"
      },
      "execution_count": 78,
      "outputs": []
    },
    {
      "cell_type": "markdown",
      "source": [
        "# Train Model"
      ],
      "metadata": {
        "id": "i7bpaqZLpIJw"
      }
    },
    {
      "cell_type": "code",
      "source": [
        "model = LSTM(\n",
        "    INPUT_SIZE,\n",
        "    HIDDEN_SIZE,\n",
        "    OUTPUT_SIZE,\n",
        "    NUM_LAYERS\n",
        ")\n",
        "criterion = nn.MSELoss()\n",
        "optimizer = torch.optim.AdamW(model.parameters(), lr=2e-6, weight_decay=0.01)"
      ],
      "metadata": {
        "id": "YymqUX0hR9AP"
      },
      "execution_count": 79,
      "outputs": []
    },
    {
      "cell_type": "code",
      "source": [
        "model(ex_in).shape"
      ],
      "metadata": {
        "colab": {
          "base_uri": "https://localhost:8080/"
        },
        "id": "6dwY5uVjuxGw",
        "outputId": "81c614e0-89c8-4742-a70c-37946d8bb5f2"
      },
      "execution_count": 80,
      "outputs": [
        {
          "output_type": "execute_result",
          "data": {
            "text/plain": [
              "torch.Size([32, 1])"
            ]
          },
          "metadata": {},
          "execution_count": 80
        }
      ]
    },
    {
      "cell_type": "code",
      "source": [
        "trainer = Trainer(\n",
        "    train_loader=train_loader,\n",
        "    val_loader=val_loader,\n",
        "    criterion=criterion,\n",
        "    optimizer=optimizer,\n",
        "    model=model,\n",
        "    device=DEVICE,\n",
        "    max_epochs=250\n",
        ")\n",
        "\n",
        "trainer.train()"
      ],
      "metadata": {
        "colab": {
          "base_uri": "https://localhost:8080/"
        },
        "id": "oCsYKSuMEXDF",
        "outputId": "02b3f800-181a-4e46-acfa-48691b18cee5"
      },
      "execution_count": 81,
      "outputs": [
        {
          "output_type": "stream",
          "name": "stdout",
          "text": [
            "Epoch 1/250:\n",
            "Train loss: 0.0603\n",
            "Val loss: 1.4047\n",
            "\n",
            "Epoch 2/250:\n",
            "Train loss: 0.0529\n",
            "Val loss: 1.3404\n",
            "\n",
            "Epoch 3/250:\n",
            "Train loss: 0.0478\n",
            "Val loss: 1.2856\n",
            "\n",
            "Epoch 4/250:\n",
            "Train loss: 0.0445\n",
            "Val loss: 1.2411\n",
            "\n",
            "Epoch 5/250:\n",
            "Train loss: 0.0425\n",
            "Val loss: 1.2051\n",
            "\n",
            "Epoch 6/250:\n",
            "Train loss: 0.0414\n",
            "Val loss: 1.1770\n",
            "\n",
            "Epoch 7/250:\n",
            "Train loss: 0.0409\n",
            "Val loss: 1.1571\n",
            "\n",
            "Epoch 8/250:\n",
            "Train loss: 0.0406\n",
            "Val loss: 1.1427\n",
            "\n",
            "Epoch 9/250:\n",
            "Train loss: 0.0404\n",
            "Val loss: 1.1329\n",
            "\n",
            "Epoch 10/250:\n",
            "Train loss: 0.0403\n",
            "Val loss: 1.1252\n",
            "\n",
            "Epoch 11/250:\n",
            "Train loss: 0.0402\n",
            "Val loss: 1.1204\n",
            "\n",
            "Epoch 12/250:\n",
            "Train loss: 0.0401\n",
            "Val loss: 1.1162\n",
            "\n",
            "Epoch 13/250:\n",
            "Train loss: 0.0401\n",
            "Val loss: 1.1136\n",
            "\n",
            "Epoch 14/250:\n",
            "Train loss: 0.0400\n",
            "Val loss: 1.1092\n",
            "\n",
            "Epoch 15/250:\n",
            "Train loss: 0.0398\n",
            "Val loss: 1.1056\n",
            "\n",
            "Epoch 16/250:\n",
            "Train loss: 0.0397\n",
            "Val loss: 1.1021\n",
            "\n",
            "Epoch 17/250:\n",
            "Train loss: 0.0396\n",
            "Val loss: 1.0999\n",
            "\n",
            "Epoch 18/250:\n",
            "Train loss: 0.0395\n",
            "Val loss: 1.0938\n",
            "\n",
            "Epoch 19/250:\n",
            "Train loss: 0.0393\n",
            "Val loss: 1.0888\n",
            "\n",
            "Epoch 20/250:\n",
            "Train loss: 0.0391\n",
            "Val loss: 1.0858\n",
            "\n",
            "Epoch 21/250:\n",
            "Train loss: 0.0390\n",
            "Val loss: 1.0810\n",
            "\n",
            "Epoch 22/250:\n",
            "Train loss: 0.0388\n",
            "Val loss: 1.0754\n",
            "\n",
            "Epoch 23/250:\n",
            "Train loss: 0.0385\n",
            "Val loss: 1.0680\n",
            "\n",
            "Epoch 24/250:\n",
            "Train loss: 0.0383\n",
            "Val loss: 1.0616\n",
            "\n",
            "Epoch 25/250:\n",
            "Train loss: 0.0380\n",
            "Val loss: 1.0557\n",
            "\n",
            "Epoch 26/250:\n",
            "Train loss: 0.0377\n",
            "Val loss: 1.0451\n",
            "\n",
            "Epoch 27/250:\n",
            "Train loss: 0.0374\n",
            "Val loss: 1.0367\n",
            "\n",
            "Epoch 28/250:\n",
            "Train loss: 0.0371\n",
            "Val loss: 1.0253\n",
            "\n",
            "Epoch 29/250:\n",
            "Train loss: 0.0367\n",
            "Val loss: 1.0159\n",
            "\n",
            "Epoch 30/250:\n",
            "Train loss: 0.0363\n",
            "Val loss: 1.0045\n",
            "\n",
            "Epoch 31/250:\n",
            "Train loss: 0.0358\n",
            "Val loss: 0.9900\n",
            "\n",
            "Epoch 32/250:\n",
            "Train loss: 0.0353\n",
            "Val loss: 0.9754\n",
            "\n",
            "Epoch 33/250:\n",
            "Train loss: 0.0348\n",
            "Val loss: 0.9607\n",
            "\n",
            "Epoch 34/250:\n",
            "Train loss: 0.0342\n",
            "Val loss: 0.9445\n",
            "\n",
            "Epoch 35/250:\n",
            "Train loss: 0.0335\n",
            "Val loss: 0.9240\n",
            "\n",
            "Epoch 36/250:\n",
            "Train loss: 0.0328\n",
            "Val loss: 0.9045\n",
            "\n",
            "Epoch 37/250:\n",
            "Train loss: 0.0320\n",
            "Val loss: 0.8817\n",
            "\n",
            "Epoch 38/250:\n",
            "Train loss: 0.0312\n",
            "Val loss: 0.8570\n",
            "\n",
            "Epoch 39/250:\n",
            "Train loss: 0.0303\n",
            "Val loss: 0.8308\n",
            "\n",
            "Epoch 40/250:\n",
            "Train loss: 0.0293\n",
            "Val loss: 0.8073\n",
            "\n",
            "Epoch 41/250:\n",
            "Train loss: 0.0283\n",
            "Val loss: 0.7743\n",
            "\n",
            "Epoch 42/250:\n",
            "Train loss: 0.0272\n",
            "Val loss: 0.7422\n",
            "\n",
            "Epoch 43/250:\n",
            "Train loss: 0.0259\n",
            "Val loss: 0.7096\n",
            "\n",
            "Epoch 44/250:\n",
            "Train loss: 0.0247\n",
            "Val loss: 0.6701\n",
            "\n",
            "Epoch 45/250:\n",
            "Train loss: 0.0233\n",
            "Val loss: 0.6329\n",
            "\n",
            "Epoch 46/250:\n",
            "Train loss: 0.0219\n",
            "Val loss: 0.5935\n",
            "\n",
            "Epoch 47/250:\n",
            "Train loss: 0.0204\n",
            "Val loss: 0.5470\n",
            "\n",
            "Epoch 48/250:\n",
            "Train loss: 0.0189\n",
            "Val loss: 0.5079\n",
            "\n",
            "Epoch 49/250:\n",
            "Train loss: 0.0173\n",
            "Val loss: 0.4624\n",
            "\n",
            "Epoch 50/250:\n",
            "Train loss: 0.0156\n",
            "Val loss: 0.4150\n",
            "\n",
            "Epoch 51/250:\n",
            "Train loss: 0.0140\n",
            "Val loss: 0.3703\n",
            "\n",
            "Epoch 52/250:\n",
            "Train loss: 0.0123\n",
            "Val loss: 0.3230\n",
            "\n",
            "Epoch 53/250:\n",
            "Train loss: 0.0107\n",
            "Val loss: 0.2784\n",
            "\n",
            "Epoch 54/250:\n",
            "Train loss: 0.0091\n",
            "Val loss: 0.2366\n",
            "\n",
            "Epoch 55/250:\n",
            "Train loss: 0.0076\n",
            "Val loss: 0.1938\n",
            "\n",
            "Epoch 56/250:\n",
            "Train loss: 0.0062\n",
            "Val loss: 0.1563\n",
            "\n",
            "Epoch 57/250:\n",
            "Train loss: 0.0049\n",
            "Val loss: 0.1207\n",
            "\n",
            "Epoch 58/250:\n",
            "Train loss: 0.0037\n",
            "Val loss: 0.0909\n",
            "\n",
            "Epoch 59/250:\n",
            "Train loss: 0.0028\n",
            "Val loss: 0.0658\n",
            "\n",
            "Epoch 60/250:\n",
            "Train loss: 0.0019\n",
            "Val loss: 0.0458\n",
            "\n",
            "Epoch 61/250:\n",
            "Train loss: 0.0013\n",
            "Val loss: 0.0301\n",
            "\n",
            "Epoch 62/250:\n",
            "Train loss: 0.0008\n",
            "Val loss: 0.0188\n",
            "\n",
            "Epoch 63/250:\n",
            "Train loss: 0.0005\n",
            "Val loss: 0.0114\n",
            "\n",
            "Epoch 64/250:\n",
            "Train loss: 0.0003\n",
            "Val loss: 0.0066\n",
            "\n",
            "Epoch 65/250:\n",
            "Train loss: 0.0002\n",
            "Val loss: 0.0039\n",
            "\n",
            "Epoch 66/250:\n",
            "Train loss: 0.0001\n",
            "Val loss: 0.0025\n",
            "\n",
            "Epoch 67/250:\n",
            "Train loss: 0.0001\n",
            "Val loss: 0.0017\n",
            "\n",
            "Epoch 68/250:\n",
            "Train loss: 0.0001\n",
            "Val loss: 0.0014\n",
            "\n",
            "Epoch 69/250:\n",
            "Train loss: 0.0001\n",
            "Val loss: 0.0013\n",
            "\n",
            "Epoch 70/250:\n",
            "Train loss: 0.0001\n",
            "Val loss: 0.0012\n",
            "\n",
            "Epoch 71/250:\n",
            "Train loss: 0.0001\n",
            "Val loss: 0.0012\n",
            "\n",
            "Epoch 72/250:\n",
            "Train loss: 0.0001\n",
            "Val loss: 0.0012\n",
            "\n",
            "Epoch 73/250:\n",
            "Train loss: 0.0001\n",
            "Val loss: 0.0012\n",
            "\n",
            "Epoch 74/250:\n",
            "Train loss: 0.0001\n",
            "Val loss: 0.0012\n",
            "\n",
            "Epoch 75/250:\n",
            "Train loss: 0.0001\n",
            "Val loss: 0.0012\n",
            "\n",
            "Epoch 76/250:\n",
            "Train loss: 0.0001\n",
            "Val loss: 0.0012\n",
            "\n",
            "Epoch 77/250:\n",
            "Train loss: 0.0001\n",
            "Val loss: 0.0012\n",
            "\n",
            "Epoch 78/250:\n",
            "Train loss: 0.0001\n",
            "Val loss: 0.0012\n",
            "\n",
            "Epoch 79/250:\n",
            "Train loss: 0.0001\n",
            "Val loss: 0.0012\n",
            "\n",
            "Epoch 80/250:\n",
            "Train loss: 0.0001\n",
            "Val loss: 0.0012\n",
            "\n",
            "Epoch 81/250:\n",
            "Train loss: 0.0001\n",
            "Val loss: 0.0012\n",
            "\n",
            "Epoch 82/250:\n",
            "Train loss: 0.0001\n",
            "Val loss: 0.0012\n",
            "\n",
            "Epoch 83/250:\n",
            "Train loss: 0.0001\n",
            "Val loss: 0.0012\n",
            "Epoch 00083: reducing learning rate of group 0 to 2.0000e-07.\n",
            "\n",
            "Epoch 84/250:\n",
            "Train loss: 0.0001\n",
            "Val loss: 0.0012\n",
            "\n",
            "Epoch 85/250:\n",
            "Train loss: 0.0001\n",
            "Val loss: 0.0012\n",
            "\n",
            "Epoch 86/250:\n",
            "Train loss: 0.0001\n",
            "Val loss: 0.0012\n",
            "\n",
            "Epoch 87/250:\n",
            "Train loss: 0.0001\n",
            "Val loss: 0.0012\n",
            "best epoch: 77\n",
            "Training Finished\n"
          ]
        }
      ]
    },
    {
      "cell_type": "code",
      "source": [
        "trainer.evaluate()"
      ],
      "metadata": {
        "colab": {
          "base_uri": "https://localhost:8080/"
        },
        "id": "TwmH42XtnlDo",
        "outputId": "df94ae37-1f0d-4d47-d5a2-97ea9c0273ee"
      },
      "execution_count": 82,
      "outputs": [
        {
          "output_type": "execute_result",
          "data": {
            "text/plain": [
              "0.0012"
            ]
          },
          "metadata": {},
          "execution_count": 82
        }
      ]
    },
    {
      "cell_type": "code",
      "source": [
        "lstm_model = torch.load('/content/drive/MyDrive/Models/TimeSeriesLSTM').to(DEVICE)"
      ],
      "metadata": {
        "id": "OKBbqOhRIQnX"
      },
      "execution_count": 83,
      "outputs": []
    },
    {
      "cell_type": "markdown",
      "source": [
        "# Visualize Forecast on Testing Data\n",
        "\n",
        "We will create a class to visualize and evaluate predictions."
      ],
      "metadata": {
        "id": "fGlIphYYpTrH"
      }
    },
    {
      "cell_type": "code",
      "source": [
        "class TimeSeriesForecast:\n",
        "  def __init__(self, lstm_model, device, scaler, val_data):\n",
        "    self.model = lstm_model\n",
        "    self.device = device\n",
        "    self.scaler = scaler\n",
        "    self.val_data = val_data\n",
        "\n",
        "  @torch.no_grad()\n",
        "  def _predict(self, idx):\n",
        "    X, y = self.val_data.__getitem__(idx)\n",
        "    X = X.unsqueeze(0).to(self.device)\n",
        "    preds = self.model(X)\n",
        "    return X.flatten(), y, preds.flatten(),\n",
        "\n",
        "  def _get_unormalized(self, idx):\n",
        "    X, truth, preds = self._predict(idx)\n",
        "    truth_row = torch.concat([X, truth])\n",
        "    truth_row = truth_row.detach().numpy().reshape(1, -1)\n",
        "    preds_row = torch.concat([X, preds])\n",
        "    preds_row = preds_row.detach().numpy().reshape(1, -1)\n",
        "    return self.scaler.inverse_transform(truth_row), self.scaler.inverse_transform(preds_row)\n",
        "\n",
        "  def get_predictions(self):\n",
        "    truth, preds = [], []\n",
        "    for i, (input, output) in enumerate(self.val_data):\n",
        "      truth_row, preds_row = self._get_unormalized(i)\n",
        "      truth.extend(truth_row.flatten()[window_size:])\n",
        "      preds.extend(preds_row.flatten()[window_size:])\n",
        "\n",
        "    return truth, preds\n",
        "\n",
        "  def plot(self):\n",
        "    truth, preds = self.get_predictions()\n",
        "    plt.plot(truth, label='Adj Close')\n",
        "    plt.plot(preds, label='Pred Adj Close')\n",
        "    plt.legend()\n",
        "    plt.title('Microsoft Adjusted Closing Price Forecast')\n",
        "    plt.xlabel('Day')\n",
        "    plt.ylabel('Adj Close')\n",
        "    plt.show()\n",
        "\n",
        "  def rmse(self):\n",
        "    truth, preds = self.get_predictions()\n",
        "    mse = mean_squared_error(truth, preds)\n",
        "    return np.sqrt(mse)    "
      ],
      "metadata": {
        "id": "X6-aN_XOEhqE"
      },
      "execution_count": 84,
      "outputs": []
    },
    {
      "cell_type": "code",
      "source": [
        "ts = TimeSeriesForecast(lstm_model, DEVICE, scaler, val_ds)"
      ],
      "metadata": {
        "id": "ksm8IV1TFr5r"
      },
      "execution_count": 85,
      "outputs": []
    },
    {
      "cell_type": "markdown",
      "source": [
        "### Plot Forecast"
      ],
      "metadata": {
        "id": "2aDiAKKKCqsp"
      }
    },
    {
      "cell_type": "code",
      "source": [
        "ts.plot()"
      ],
      "metadata": {
        "id": "NG28npvQBQQq",
        "outputId": "ec58045c-de4c-48fc-bb1e-1c9f7267363b",
        "colab": {
          "base_uri": "https://localhost:8080/",
          "height": 557
        }
      },
      "execution_count": 86,
      "outputs": [
        {
          "output_type": "display_data",
          "data": {
            "text/plain": [
              "<Figure size 1000x600 with 1 Axes>"
            ],
            "image/png": "[encoded data removed]"
          },
          "metadata": {}
        }
      ]
    },
    {
      "cell_type": "markdown",
      "source": [
        "### Print RMSE"
      ],
      "metadata": {
        "id": "wAQ3X4PqCv1e"
      }
    },
    {
      "cell_type": "code",
      "source": [
        "print(f'Validation Root Mean Squared Error: {ts.rmse():.4f}')"
      ],
      "metadata": {
        "id": "86DZ7Av2DmAG",
        "outputId": "c4df5c6a-e1f0-4565-f813-9a8c57ebf2dd",
        "colab": {
          "base_uri": "https://localhost:8080/"
        }
      },
      "execution_count": 87,
      "outputs": [
        {
          "output_type": "stream",
          "name": "stdout",
          "text": [
            "Validation Root Mean Squared Error: 7.3063\n"
          ]
        }
      ]
    },
    {
      "cell_type": "markdown",
      "source": [
        "This means that for every prediction step, the model on average is $7.31 off the actual adjusted closing price."
      ],
      "metadata": {
        "id": "2q3n5XZxU714"
      }
    }
  ]
}